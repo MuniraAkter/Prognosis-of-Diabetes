{
  "nbformat": 4,
  "nbformat_minor": 0,
  "metadata": {
    "colab": {
      "provenance": [],
      "authorship_tag": "ABX9TyMR81BFCzX5+IxKHCO1vVNn"
    },
    "kernelspec": {
      "name": "python3",
      "display_name": "Python 3"
    },
    "language_info": {
      "name": "python"
    },
    "accelerator": "GPU"
  },
  "cells": [
    {
      "cell_type": "markdown",
      "source": [
        "\n",
        "**Problem Name:** *A diabetes prediction problem using different types of Machine Learning (ML) algorithms and Neural Networks.*"
      ],
      "metadata": {
        "id": "4KtgoEXNzy3T"
      }
    },
    {
      "cell_type": "markdown",
      "source": [
        "**Objectives:**\n",
        "1. To acquire knowledge how to build a neural network in Python.\n",
        "2. To learn about the activation function in the hidden and classification layer of the neural network.\n",
        "3. To know how to compile a neural network(NN) model using loss function, optimizer and accuracy metrics."
      ],
      "metadata": {
        "id": "JS2lZ7xIN1dt"
      }
    },
    {
      "cell_type": "code",
      "source": [
        "# Downloading the data\n",
        "!wget -O diabetes.csv  https://www.dropbox.com/s/sglreynnyx40pb6/diabetes.csv?dl=0"
      ],
      "metadata": {
        "colab": {
          "base_uri": "https://localhost:8080/"
        },
        "id": "NRDZucBDNp3X",
        "outputId": "5b402bf9-bfae-4e45-e0e5-0e3ee5d408da"
      },
      "execution_count": null,
      "outputs": [
        {
          "output_type": "stream",
          "name": "stdout",
          "text": [
            "--2021-12-17 03:21:06--  https://www.dropbox.com/s/sglreynnyx40pb6/diabetes.csv?dl=0\n",
            "Resolving www.dropbox.com (www.dropbox.com)... 162.125.68.18, 2620:100:6023:18::a27d:4312\n",
            "Connecting to www.dropbox.com (www.dropbox.com)|162.125.68.18|:443... connected.\n",
            "HTTP request sent, awaiting response... 301 Moved Permanently\n",
            "Location: /s/raw/sglreynnyx40pb6/diabetes.csv [following]\n",
            "--2021-12-17 03:21:06--  https://www.dropbox.com/s/raw/sglreynnyx40pb6/diabetes.csv\n",
            "Reusing existing connection to www.dropbox.com:443.\n",
            "HTTP request sent, awaiting response... 302 Found\n",
            "Location: https://uc6178813647578fd9b46b8dd628.dl.dropboxusercontent.com/cd/0/inline/Bb_i0kx3mfGCEwoSriZrbv8w-LclmVvmVM2WodL2-0F-uovsyVLiXe-E43_5ofQPaFpiTehNNUMCiXT6n0vr0DgjkosJUQbBx8S4p76_YY4VO6kjGLWgNp2A7w-EwJ9Xxw7IHldCbH_g5_KHLq06dBn0/file# [following]\n",
            "--2021-12-17 03:21:06--  https://uc6178813647578fd9b46b8dd628.dl.dropboxusercontent.com/cd/0/inline/Bb_i0kx3mfGCEwoSriZrbv8w-LclmVvmVM2WodL2-0F-uovsyVLiXe-E43_5ofQPaFpiTehNNUMCiXT6n0vr0DgjkosJUQbBx8S4p76_YY4VO6kjGLWgNp2A7w-EwJ9Xxw7IHldCbH_g5_KHLq06dBn0/file\n",
            "Resolving uc6178813647578fd9b46b8dd628.dl.dropboxusercontent.com (uc6178813647578fd9b46b8dd628.dl.dropboxusercontent.com)... 162.125.68.15, 2620:100:6022:15::a27d:420f\n",
            "Connecting to uc6178813647578fd9b46b8dd628.dl.dropboxusercontent.com (uc6178813647578fd9b46b8dd628.dl.dropboxusercontent.com)|162.125.68.15|:443... connected.\n",
            "HTTP request sent, awaiting response... 200 OK\n",
            "Length: 23873 (23K) [text/plain]\n",
            "Saving to: ‘diabetes.csv’\n",
            "\n",
            "diabetes.csv        100%[===================>]  23.31K  --.-KB/s    in 0.07s   \n",
            "\n",
            "2021-12-17 03:21:07 (316 KB/s) - ‘diabetes.csv’ saved [23873/23873]\n",
            "\n"
          ]
        }
      ]
    },
    {
      "cell_type": "markdown",
      "source": [
        "**Showing the task dataset**"
      ],
      "metadata": {
        "id": "pFwhI-YSQWpO"
      }
    },
    {
      "cell_type": "code",
      "source": [
        "import pandas as pd\n",
        "dataset = pd.read_csv('diabetes.csv')\n",
        "dataset # To show the dataset"
      ],
      "metadata": {
        "colab": {
          "base_uri": "https://localhost:8080/",
          "height": 423
        },
        "id": "fSi6T0ixtWKc",
        "outputId": "2289ee0c-956b-4a6c-e197-7485fa5ebd32"
      },
      "execution_count": null,
      "outputs": [
        {
          "output_type": "execute_result",
          "data": {
            "text/html": [
              "<div>\n",
              "<style scoped>\n",
              "    .dataframe tbody tr th:only-of-type {\n",
              "        vertical-align: middle;\n",
              "    }\n",
              "\n",
              "    .dataframe tbody tr th {\n",
              "        vertical-align: top;\n",
              "    }\n",
              "\n",
              "    .dataframe thead th {\n",
              "        text-align: right;\n",
              "    }\n",
              "</style>\n",
              "<table border=\"1\" class=\"dataframe\">\n",
              "  <thead>\n",
              "    <tr style=\"text-align: right;\">\n",
              "      <th></th>\n",
              "      <th>Pregnancies</th>\n",
              "      <th>Glucose</th>\n",
              "      <th>BloodPressure</th>\n",
              "      <th>SkinThickness</th>\n",
              "      <th>Insulin</th>\n",
              "      <th>BMI</th>\n",
              "      <th>DiabetesPedigreeFunction</th>\n",
              "      <th>Age</th>\n",
              "      <th>Outcome</th>\n",
              "    </tr>\n",
              "  </thead>\n",
              "  <tbody>\n",
              "    <tr>\n",
              "      <th>0</th>\n",
              "      <td>6</td>\n",
              "      <td>148</td>\n",
              "      <td>72</td>\n",
              "      <td>35</td>\n",
              "      <td>0</td>\n",
              "      <td>33.6</td>\n",
              "      <td>0.627</td>\n",
              "      <td>50</td>\n",
              "      <td>1</td>\n",
              "    </tr>\n",
              "    <tr>\n",
              "      <th>1</th>\n",
              "      <td>1</td>\n",
              "      <td>85</td>\n",
              "      <td>66</td>\n",
              "      <td>29</td>\n",
              "      <td>0</td>\n",
              "      <td>26.6</td>\n",
              "      <td>0.351</td>\n",
              "      <td>31</td>\n",
              "      <td>0</td>\n",
              "    </tr>\n",
              "    <tr>\n",
              "      <th>2</th>\n",
              "      <td>8</td>\n",
              "      <td>183</td>\n",
              "      <td>64</td>\n",
              "      <td>0</td>\n",
              "      <td>0</td>\n",
              "      <td>23.3</td>\n",
              "      <td>0.672</td>\n",
              "      <td>32</td>\n",
              "      <td>1</td>\n",
              "    </tr>\n",
              "    <tr>\n",
              "      <th>3</th>\n",
              "      <td>1</td>\n",
              "      <td>89</td>\n",
              "      <td>66</td>\n",
              "      <td>23</td>\n",
              "      <td>94</td>\n",
              "      <td>28.1</td>\n",
              "      <td>0.167</td>\n",
              "      <td>21</td>\n",
              "      <td>0</td>\n",
              "    </tr>\n",
              "    <tr>\n",
              "      <th>4</th>\n",
              "      <td>0</td>\n",
              "      <td>137</td>\n",
              "      <td>40</td>\n",
              "      <td>35</td>\n",
              "      <td>168</td>\n",
              "      <td>43.1</td>\n",
              "      <td>2.288</td>\n",
              "      <td>33</td>\n",
              "      <td>1</td>\n",
              "    </tr>\n",
              "    <tr>\n",
              "      <th>...</th>\n",
              "      <td>...</td>\n",
              "      <td>...</td>\n",
              "      <td>...</td>\n",
              "      <td>...</td>\n",
              "      <td>...</td>\n",
              "      <td>...</td>\n",
              "      <td>...</td>\n",
              "      <td>...</td>\n",
              "      <td>...</td>\n",
              "    </tr>\n",
              "    <tr>\n",
              "      <th>763</th>\n",
              "      <td>10</td>\n",
              "      <td>101</td>\n",
              "      <td>76</td>\n",
              "      <td>48</td>\n",
              "      <td>180</td>\n",
              "      <td>32.9</td>\n",
              "      <td>0.171</td>\n",
              "      <td>63</td>\n",
              "      <td>0</td>\n",
              "    </tr>\n",
              "    <tr>\n",
              "      <th>764</th>\n",
              "      <td>2</td>\n",
              "      <td>122</td>\n",
              "      <td>70</td>\n",
              "      <td>27</td>\n",
              "      <td>0</td>\n",
              "      <td>36.8</td>\n",
              "      <td>0.340</td>\n",
              "      <td>27</td>\n",
              "      <td>0</td>\n",
              "    </tr>\n",
              "    <tr>\n",
              "      <th>765</th>\n",
              "      <td>5</td>\n",
              "      <td>121</td>\n",
              "      <td>72</td>\n",
              "      <td>23</td>\n",
              "      <td>112</td>\n",
              "      <td>26.2</td>\n",
              "      <td>0.245</td>\n",
              "      <td>30</td>\n",
              "      <td>0</td>\n",
              "    </tr>\n",
              "    <tr>\n",
              "      <th>766</th>\n",
              "      <td>1</td>\n",
              "      <td>126</td>\n",
              "      <td>60</td>\n",
              "      <td>0</td>\n",
              "      <td>0</td>\n",
              "      <td>30.1</td>\n",
              "      <td>0.349</td>\n",
              "      <td>47</td>\n",
              "      <td>1</td>\n",
              "    </tr>\n",
              "    <tr>\n",
              "      <th>767</th>\n",
              "      <td>1</td>\n",
              "      <td>93</td>\n",
              "      <td>70</td>\n",
              "      <td>31</td>\n",
              "      <td>0</td>\n",
              "      <td>30.4</td>\n",
              "      <td>0.315</td>\n",
              "      <td>23</td>\n",
              "      <td>0</td>\n",
              "    </tr>\n",
              "  </tbody>\n",
              "</table>\n",
              "<p>768 rows × 9 columns</p>\n",
              "</div>"
            ],
            "text/plain": [
              "     Pregnancies  Glucose  ...  Age  Outcome\n",
              "0              6      148  ...   50        1\n",
              "1              1       85  ...   31        0\n",
              "2              8      183  ...   32        1\n",
              "3              1       89  ...   21        0\n",
              "4              0      137  ...   33        1\n",
              "..           ...      ...  ...  ...      ...\n",
              "763           10      101  ...   63        0\n",
              "764            2      122  ...   27        0\n",
              "765            5      121  ...   30        0\n",
              "766            1      126  ...   47        1\n",
              "767            1       93  ...   23        0\n",
              "\n",
              "[768 rows x 9 columns]"
            ]
          },
          "metadata": {},
          "execution_count": 112
        }
      ]
    },
    {
      "cell_type": "markdown",
      "source": [
        "**Data Pre-processing:**\n",
        "1. First of all, all the entries in the diabetes dataset are viewed in which no categorical column is found and no missing value is present in the dataset. That's why,handling missing value is not required for this task dataset.\n",
        "2. Using the 'head', 'shape' and 'describe' function, the dataset is further viewed.\n",
        "3. The summation of null value in each column is viewed which is 0 as there is no null value and the data types of each column are also shown.\n",
        "4. The features column(8) and the target (Outcome) column are separated.\n",
        "5. Exploratory data analysis is performed on this dataset using klib library in which the highest co-rrelated feature column is found to be 'glucose'(0.47) with the target column.\n",
        "6. Before training the developed ML and NN models, train-test splitting and feature scaling is performed."
      ],
      "metadata": {
        "id": "8ooOtkv_WoYj"
      }
    },
    {
      "cell_type": "markdown",
      "source": [
        "**Algorithms:**\n",
        "1. Logistic Regression (LR)\n",
        "2. K Nearest Neighbor (KNN)\n",
        "3. Support Vector Machine (SVM)\n",
        "4. Decision Tree Classifier (DT)\n",
        "5. Random Forest Classifier (RF)\n",
        "6. Naive Bayes (NB)\n",
        "7. Neural Network (NN)"
      ],
      "metadata": {
        "id": "xqqmguGBaP3y"
      }
    },
    {
      "cell_type": "markdown",
      "source": [
        "**Showing some of the first entries of the dataset**"
      ],
      "metadata": {
        "id": "ZBR0VhLrb5mZ"
      }
    },
    {
      "cell_type": "code",
      "source": [
        "dataset.head()"
      ],
      "metadata": {
        "colab": {
          "base_uri": "https://localhost:8080/",
          "height": 206
        },
        "id": "RG8VxPWqUBTF",
        "outputId": "e74ea394-a0c2-4c00-d92d-208c93a14119"
      },
      "execution_count": null,
      "outputs": [
        {
          "output_type": "execute_result",
          "data": {
            "text/html": [
              "<div>\n",
              "<style scoped>\n",
              "    .dataframe tbody tr th:only-of-type {\n",
              "        vertical-align: middle;\n",
              "    }\n",
              "\n",
              "    .dataframe tbody tr th {\n",
              "        vertical-align: top;\n",
              "    }\n",
              "\n",
              "    .dataframe thead th {\n",
              "        text-align: right;\n",
              "    }\n",
              "</style>\n",
              "<table border=\"1\" class=\"dataframe\">\n",
              "  <thead>\n",
              "    <tr style=\"text-align: right;\">\n",
              "      <th></th>\n",
              "      <th>Pregnancies</th>\n",
              "      <th>Glucose</th>\n",
              "      <th>BloodPressure</th>\n",
              "      <th>SkinThickness</th>\n",
              "      <th>Insulin</th>\n",
              "      <th>BMI</th>\n",
              "      <th>DiabetesPedigreeFunction</th>\n",
              "      <th>Age</th>\n",
              "      <th>Outcome</th>\n",
              "    </tr>\n",
              "  </thead>\n",
              "  <tbody>\n",
              "    <tr>\n",
              "      <th>0</th>\n",
              "      <td>6</td>\n",
              "      <td>148</td>\n",
              "      <td>72</td>\n",
              "      <td>35</td>\n",
              "      <td>0</td>\n",
              "      <td>33.6</td>\n",
              "      <td>0.627</td>\n",
              "      <td>50</td>\n",
              "      <td>1</td>\n",
              "    </tr>\n",
              "    <tr>\n",
              "      <th>1</th>\n",
              "      <td>1</td>\n",
              "      <td>85</td>\n",
              "      <td>66</td>\n",
              "      <td>29</td>\n",
              "      <td>0</td>\n",
              "      <td>26.6</td>\n",
              "      <td>0.351</td>\n",
              "      <td>31</td>\n",
              "      <td>0</td>\n",
              "    </tr>\n",
              "    <tr>\n",
              "      <th>2</th>\n",
              "      <td>8</td>\n",
              "      <td>183</td>\n",
              "      <td>64</td>\n",
              "      <td>0</td>\n",
              "      <td>0</td>\n",
              "      <td>23.3</td>\n",
              "      <td>0.672</td>\n",
              "      <td>32</td>\n",
              "      <td>1</td>\n",
              "    </tr>\n",
              "    <tr>\n",
              "      <th>3</th>\n",
              "      <td>1</td>\n",
              "      <td>89</td>\n",
              "      <td>66</td>\n",
              "      <td>23</td>\n",
              "      <td>94</td>\n",
              "      <td>28.1</td>\n",
              "      <td>0.167</td>\n",
              "      <td>21</td>\n",
              "      <td>0</td>\n",
              "    </tr>\n",
              "    <tr>\n",
              "      <th>4</th>\n",
              "      <td>0</td>\n",
              "      <td>137</td>\n",
              "      <td>40</td>\n",
              "      <td>35</td>\n",
              "      <td>168</td>\n",
              "      <td>43.1</td>\n",
              "      <td>2.288</td>\n",
              "      <td>33</td>\n",
              "      <td>1</td>\n",
              "    </tr>\n",
              "  </tbody>\n",
              "</table>\n",
              "</div>"
            ],
            "text/plain": [
              "   Pregnancies  Glucose  BloodPressure  ...  DiabetesPedigreeFunction  Age  Outcome\n",
              "0            6      148             72  ...                     0.627   50        1\n",
              "1            1       85             66  ...                     0.351   31        0\n",
              "2            8      183             64  ...                     0.672   32        1\n",
              "3            1       89             66  ...                     0.167   21        0\n",
              "4            0      137             40  ...                     2.288   33        1\n",
              "\n",
              "[5 rows x 9 columns]"
            ]
          },
          "metadata": {},
          "execution_count": 17
        }
      ]
    },
    {
      "cell_type": "markdown",
      "source": [
        "**Showing the shape of the dataset (rows, columns)**"
      ],
      "metadata": {
        "id": "JvMLNVrKcAbh"
      }
    },
    {
      "cell_type": "code",
      "source": [
        "dataset.shape"
      ],
      "metadata": {
        "colab": {
          "base_uri": "https://localhost:8080/"
        },
        "id": "08z_gnluUmfc",
        "outputId": "37eb2032-d289-4e21-eb02-cdde5c9e94b4"
      },
      "execution_count": null,
      "outputs": [
        {
          "output_type": "execute_result",
          "data": {
            "text/plain": [
              "(768, 9)"
            ]
          },
          "metadata": {},
          "execution_count": 18
        }
      ]
    },
    {
      "cell_type": "markdown",
      "source": [
        "**Showing the summary functions of each column**"
      ],
      "metadata": {
        "id": "iHzK2_3OcIEB"
      }
    },
    {
      "cell_type": "code",
      "source": [
        "dataset.describe()"
      ],
      "metadata": {
        "colab": {
          "base_uri": "https://localhost:8080/",
          "height": 300
        },
        "id": "jQ1jQUuiUqVd",
        "outputId": "04506dfa-cef6-462f-a4e3-ffcd36a38fd1"
      },
      "execution_count": null,
      "outputs": [
        {
          "output_type": "execute_result",
          "data": {
            "text/html": [
              "<div>\n",
              "<style scoped>\n",
              "    .dataframe tbody tr th:only-of-type {\n",
              "        vertical-align: middle;\n",
              "    }\n",
              "\n",
              "    .dataframe tbody tr th {\n",
              "        vertical-align: top;\n",
              "    }\n",
              "\n",
              "    .dataframe thead th {\n",
              "        text-align: right;\n",
              "    }\n",
              "</style>\n",
              "<table border=\"1\" class=\"dataframe\">\n",
              "  <thead>\n",
              "    <tr style=\"text-align: right;\">\n",
              "      <th></th>\n",
              "      <th>Pregnancies</th>\n",
              "      <th>Glucose</th>\n",
              "      <th>BloodPressure</th>\n",
              "      <th>SkinThickness</th>\n",
              "      <th>Insulin</th>\n",
              "      <th>BMI</th>\n",
              "      <th>DiabetesPedigreeFunction</th>\n",
              "      <th>Age</th>\n",
              "      <th>Outcome</th>\n",
              "    </tr>\n",
              "  </thead>\n",
              "  <tbody>\n",
              "    <tr>\n",
              "      <th>count</th>\n",
              "      <td>768.000000</td>\n",
              "      <td>768.000000</td>\n",
              "      <td>768.000000</td>\n",
              "      <td>768.000000</td>\n",
              "      <td>768.000000</td>\n",
              "      <td>768.000000</td>\n",
              "      <td>768.000000</td>\n",
              "      <td>768.000000</td>\n",
              "      <td>768.000000</td>\n",
              "    </tr>\n",
              "    <tr>\n",
              "      <th>mean</th>\n",
              "      <td>3.845052</td>\n",
              "      <td>120.894531</td>\n",
              "      <td>69.105469</td>\n",
              "      <td>20.536458</td>\n",
              "      <td>79.799479</td>\n",
              "      <td>31.992578</td>\n",
              "      <td>0.471876</td>\n",
              "      <td>33.240885</td>\n",
              "      <td>0.348958</td>\n",
              "    </tr>\n",
              "    <tr>\n",
              "      <th>std</th>\n",
              "      <td>3.369578</td>\n",
              "      <td>31.972618</td>\n",
              "      <td>19.355807</td>\n",
              "      <td>15.952218</td>\n",
              "      <td>115.244002</td>\n",
              "      <td>7.884160</td>\n",
              "      <td>0.331329</td>\n",
              "      <td>11.760232</td>\n",
              "      <td>0.476951</td>\n",
              "    </tr>\n",
              "    <tr>\n",
              "      <th>min</th>\n",
              "      <td>0.000000</td>\n",
              "      <td>0.000000</td>\n",
              "      <td>0.000000</td>\n",
              "      <td>0.000000</td>\n",
              "      <td>0.000000</td>\n",
              "      <td>0.000000</td>\n",
              "      <td>0.078000</td>\n",
              "      <td>21.000000</td>\n",
              "      <td>0.000000</td>\n",
              "    </tr>\n",
              "    <tr>\n",
              "      <th>25%</th>\n",
              "      <td>1.000000</td>\n",
              "      <td>99.000000</td>\n",
              "      <td>62.000000</td>\n",
              "      <td>0.000000</td>\n",
              "      <td>0.000000</td>\n",
              "      <td>27.300000</td>\n",
              "      <td>0.243750</td>\n",
              "      <td>24.000000</td>\n",
              "      <td>0.000000</td>\n",
              "    </tr>\n",
              "    <tr>\n",
              "      <th>50%</th>\n",
              "      <td>3.000000</td>\n",
              "      <td>117.000000</td>\n",
              "      <td>72.000000</td>\n",
              "      <td>23.000000</td>\n",
              "      <td>30.500000</td>\n",
              "      <td>32.000000</td>\n",
              "      <td>0.372500</td>\n",
              "      <td>29.000000</td>\n",
              "      <td>0.000000</td>\n",
              "    </tr>\n",
              "    <tr>\n",
              "      <th>75%</th>\n",
              "      <td>6.000000</td>\n",
              "      <td>140.250000</td>\n",
              "      <td>80.000000</td>\n",
              "      <td>32.000000</td>\n",
              "      <td>127.250000</td>\n",
              "      <td>36.600000</td>\n",
              "      <td>0.626250</td>\n",
              "      <td>41.000000</td>\n",
              "      <td>1.000000</td>\n",
              "    </tr>\n",
              "    <tr>\n",
              "      <th>max</th>\n",
              "      <td>17.000000</td>\n",
              "      <td>199.000000</td>\n",
              "      <td>122.000000</td>\n",
              "      <td>99.000000</td>\n",
              "      <td>846.000000</td>\n",
              "      <td>67.100000</td>\n",
              "      <td>2.420000</td>\n",
              "      <td>81.000000</td>\n",
              "      <td>1.000000</td>\n",
              "    </tr>\n",
              "  </tbody>\n",
              "</table>\n",
              "</div>"
            ],
            "text/plain": [
              "       Pregnancies     Glucose  ...         Age     Outcome\n",
              "count   768.000000  768.000000  ...  768.000000  768.000000\n",
              "mean      3.845052  120.894531  ...   33.240885    0.348958\n",
              "std       3.369578   31.972618  ...   11.760232    0.476951\n",
              "min       0.000000    0.000000  ...   21.000000    0.000000\n",
              "25%       1.000000   99.000000  ...   24.000000    0.000000\n",
              "50%       3.000000  117.000000  ...   29.000000    0.000000\n",
              "75%       6.000000  140.250000  ...   41.000000    1.000000\n",
              "max      17.000000  199.000000  ...   81.000000    1.000000\n",
              "\n",
              "[8 rows x 9 columns]"
            ]
          },
          "metadata": {},
          "execution_count": 19
        }
      ]
    },
    {
      "cell_type": "markdown",
      "source": [
        "**Showing the null column if any (no null value)**"
      ],
      "metadata": {
        "id": "ssMvMmNCca1B"
      }
    },
    {
      "cell_type": "code",
      "source": [
        "dataset.isnull().sum()"
      ],
      "metadata": {
        "colab": {
          "base_uri": "https://localhost:8080/"
        },
        "id": "v9PfPI1dVCON",
        "outputId": "35dc7f0e-4b7c-4285-813c-43a8904dd2a6"
      },
      "execution_count": null,
      "outputs": [
        {
          "output_type": "execute_result",
          "data": {
            "text/plain": [
              "Pregnancies                 0\n",
              "Glucose                     0\n",
              "BloodPressure               0\n",
              "SkinThickness               0\n",
              "Insulin                     0\n",
              "BMI                         0\n",
              "DiabetesPedigreeFunction    0\n",
              "Age                         0\n",
              "Outcome                     0\n",
              "dtype: int64"
            ]
          },
          "metadata": {},
          "execution_count": 20
        }
      ]
    },
    {
      "cell_type": "markdown",
      "source": [
        "**Showing the data types of each column in the dataset**"
      ],
      "metadata": {
        "id": "n4MMUR7BdQTi"
      }
    },
    {
      "cell_type": "code",
      "source": [
        "dataset.dtypes"
      ],
      "metadata": {
        "colab": {
          "base_uri": "https://localhost:8080/"
        },
        "id": "wl2_E1TcVIgE",
        "outputId": "3bce2b20-9358-4780-a8f7-48ea895f0601"
      },
      "execution_count": null,
      "outputs": [
        {
          "output_type": "execute_result",
          "data": {
            "text/plain": [
              "Pregnancies                   int64\n",
              "Glucose                       int64\n",
              "BloodPressure                 int64\n",
              "SkinThickness                 int64\n",
              "Insulin                       int64\n",
              "BMI                         float64\n",
              "DiabetesPedigreeFunction    float64\n",
              "Age                           int64\n",
              "Outcome                       int64\n",
              "dtype: object"
            ]
          },
          "metadata": {},
          "execution_count": 21
        }
      ]
    },
    {
      "cell_type": "markdown",
      "source": [
        "**Number of rows in 'Insulin' column having '0' value**"
      ],
      "metadata": {
        "id": "Hi4AHxwIdc2Y"
      }
    },
    {
      "cell_type": "code",
      "source": [
        "dataset[dataset.Insulin==0]"
      ],
      "metadata": {
        "colab": {
          "base_uri": "https://localhost:8080/",
          "height": 423
        },
        "id": "Cj8yr0x3Rjwp",
        "outputId": "346b1c7f-de7a-42ea-fea7-fdcb59b03113"
      },
      "execution_count": null,
      "outputs": [
        {
          "output_type": "execute_result",
          "data": {
            "text/html": [
              "<div>\n",
              "<style scoped>\n",
              "    .dataframe tbody tr th:only-of-type {\n",
              "        vertical-align: middle;\n",
              "    }\n",
              "\n",
              "    .dataframe tbody tr th {\n",
              "        vertical-align: top;\n",
              "    }\n",
              "\n",
              "    .dataframe thead th {\n",
              "        text-align: right;\n",
              "    }\n",
              "</style>\n",
              "<table border=\"1\" class=\"dataframe\">\n",
              "  <thead>\n",
              "    <tr style=\"text-align: right;\">\n",
              "      <th></th>\n",
              "      <th>Pregnancies</th>\n",
              "      <th>Glucose</th>\n",
              "      <th>BloodPressure</th>\n",
              "      <th>SkinThickness</th>\n",
              "      <th>Insulin</th>\n",
              "      <th>BMI</th>\n",
              "      <th>DiabetesPedigreeFunction</th>\n",
              "      <th>Age</th>\n",
              "      <th>Outcome</th>\n",
              "    </tr>\n",
              "  </thead>\n",
              "  <tbody>\n",
              "    <tr>\n",
              "      <th>0</th>\n",
              "      <td>6</td>\n",
              "      <td>148</td>\n",
              "      <td>72</td>\n",
              "      <td>35</td>\n",
              "      <td>0</td>\n",
              "      <td>33.6</td>\n",
              "      <td>0.627</td>\n",
              "      <td>50</td>\n",
              "      <td>1</td>\n",
              "    </tr>\n",
              "    <tr>\n",
              "      <th>1</th>\n",
              "      <td>1</td>\n",
              "      <td>85</td>\n",
              "      <td>66</td>\n",
              "      <td>29</td>\n",
              "      <td>0</td>\n",
              "      <td>26.6</td>\n",
              "      <td>0.351</td>\n",
              "      <td>31</td>\n",
              "      <td>0</td>\n",
              "    </tr>\n",
              "    <tr>\n",
              "      <th>2</th>\n",
              "      <td>8</td>\n",
              "      <td>183</td>\n",
              "      <td>64</td>\n",
              "      <td>0</td>\n",
              "      <td>0</td>\n",
              "      <td>23.3</td>\n",
              "      <td>0.672</td>\n",
              "      <td>32</td>\n",
              "      <td>1</td>\n",
              "    </tr>\n",
              "    <tr>\n",
              "      <th>5</th>\n",
              "      <td>5</td>\n",
              "      <td>116</td>\n",
              "      <td>74</td>\n",
              "      <td>0</td>\n",
              "      <td>0</td>\n",
              "      <td>25.6</td>\n",
              "      <td>0.201</td>\n",
              "      <td>30</td>\n",
              "      <td>0</td>\n",
              "    </tr>\n",
              "    <tr>\n",
              "      <th>7</th>\n",
              "      <td>10</td>\n",
              "      <td>115</td>\n",
              "      <td>0</td>\n",
              "      <td>0</td>\n",
              "      <td>0</td>\n",
              "      <td>35.3</td>\n",
              "      <td>0.134</td>\n",
              "      <td>29</td>\n",
              "      <td>0</td>\n",
              "    </tr>\n",
              "    <tr>\n",
              "      <th>...</th>\n",
              "      <td>...</td>\n",
              "      <td>...</td>\n",
              "      <td>...</td>\n",
              "      <td>...</td>\n",
              "      <td>...</td>\n",
              "      <td>...</td>\n",
              "      <td>...</td>\n",
              "      <td>...</td>\n",
              "      <td>...</td>\n",
              "    </tr>\n",
              "    <tr>\n",
              "      <th>761</th>\n",
              "      <td>9</td>\n",
              "      <td>170</td>\n",
              "      <td>74</td>\n",
              "      <td>31</td>\n",
              "      <td>0</td>\n",
              "      <td>44.0</td>\n",
              "      <td>0.403</td>\n",
              "      <td>43</td>\n",
              "      <td>1</td>\n",
              "    </tr>\n",
              "    <tr>\n",
              "      <th>762</th>\n",
              "      <td>9</td>\n",
              "      <td>89</td>\n",
              "      <td>62</td>\n",
              "      <td>0</td>\n",
              "      <td>0</td>\n",
              "      <td>22.5</td>\n",
              "      <td>0.142</td>\n",
              "      <td>33</td>\n",
              "      <td>0</td>\n",
              "    </tr>\n",
              "    <tr>\n",
              "      <th>764</th>\n",
              "      <td>2</td>\n",
              "      <td>122</td>\n",
              "      <td>70</td>\n",
              "      <td>27</td>\n",
              "      <td>0</td>\n",
              "      <td>36.8</td>\n",
              "      <td>0.340</td>\n",
              "      <td>27</td>\n",
              "      <td>0</td>\n",
              "    </tr>\n",
              "    <tr>\n",
              "      <th>766</th>\n",
              "      <td>1</td>\n",
              "      <td>126</td>\n",
              "      <td>60</td>\n",
              "      <td>0</td>\n",
              "      <td>0</td>\n",
              "      <td>30.1</td>\n",
              "      <td>0.349</td>\n",
              "      <td>47</td>\n",
              "      <td>1</td>\n",
              "    </tr>\n",
              "    <tr>\n",
              "      <th>767</th>\n",
              "      <td>1</td>\n",
              "      <td>93</td>\n",
              "      <td>70</td>\n",
              "      <td>31</td>\n",
              "      <td>0</td>\n",
              "      <td>30.4</td>\n",
              "      <td>0.315</td>\n",
              "      <td>23</td>\n",
              "      <td>0</td>\n",
              "    </tr>\n",
              "  </tbody>\n",
              "</table>\n",
              "<p>374 rows × 9 columns</p>\n",
              "</div>"
            ],
            "text/plain": [
              "     Pregnancies  Glucose  ...  Age  Outcome\n",
              "0              6      148  ...   50        1\n",
              "1              1       85  ...   31        0\n",
              "2              8      183  ...   32        1\n",
              "5              5      116  ...   30        0\n",
              "7             10      115  ...   29        0\n",
              "..           ...      ...  ...  ...      ...\n",
              "761            9      170  ...   43        1\n",
              "762            9       89  ...   33        0\n",
              "764            2      122  ...   27        0\n",
              "766            1      126  ...   47        1\n",
              "767            1       93  ...   23        0\n",
              "\n",
              "[374 rows x 9 columns]"
            ]
          },
          "metadata": {},
          "execution_count": 5
        }
      ]
    },
    {
      "cell_type": "markdown",
      "source": [
        "**Number of rows in 'SkinThickness' column having '0' value**"
      ],
      "metadata": {
        "id": "fEX1ISrQdksa"
      }
    },
    {
      "cell_type": "code",
      "source": [
        "dataset[dataset.SkinThickness==0]"
      ],
      "metadata": {
        "colab": {
          "base_uri": "https://localhost:8080/",
          "height": 423
        },
        "id": "2YaTlBHzR4TN",
        "outputId": "5e999430-bb12-492d-cf3a-309262d2b05e"
      },
      "execution_count": null,
      "outputs": [
        {
          "output_type": "execute_result",
          "data": {
            "text/html": [
              "<div>\n",
              "<style scoped>\n",
              "    .dataframe tbody tr th:only-of-type {\n",
              "        vertical-align: middle;\n",
              "    }\n",
              "\n",
              "    .dataframe tbody tr th {\n",
              "        vertical-align: top;\n",
              "    }\n",
              "\n",
              "    .dataframe thead th {\n",
              "        text-align: right;\n",
              "    }\n",
              "</style>\n",
              "<table border=\"1\" class=\"dataframe\">\n",
              "  <thead>\n",
              "    <tr style=\"text-align: right;\">\n",
              "      <th></th>\n",
              "      <th>Pregnancies</th>\n",
              "      <th>Glucose</th>\n",
              "      <th>BloodPressure</th>\n",
              "      <th>SkinThickness</th>\n",
              "      <th>Insulin</th>\n",
              "      <th>BMI</th>\n",
              "      <th>DiabetesPedigreeFunction</th>\n",
              "      <th>Age</th>\n",
              "      <th>Outcome</th>\n",
              "    </tr>\n",
              "  </thead>\n",
              "  <tbody>\n",
              "    <tr>\n",
              "      <th>2</th>\n",
              "      <td>8</td>\n",
              "      <td>183</td>\n",
              "      <td>64</td>\n",
              "      <td>0</td>\n",
              "      <td>0</td>\n",
              "      <td>23.3</td>\n",
              "      <td>0.672</td>\n",
              "      <td>32</td>\n",
              "      <td>1</td>\n",
              "    </tr>\n",
              "    <tr>\n",
              "      <th>5</th>\n",
              "      <td>5</td>\n",
              "      <td>116</td>\n",
              "      <td>74</td>\n",
              "      <td>0</td>\n",
              "      <td>0</td>\n",
              "      <td>25.6</td>\n",
              "      <td>0.201</td>\n",
              "      <td>30</td>\n",
              "      <td>0</td>\n",
              "    </tr>\n",
              "    <tr>\n",
              "      <th>7</th>\n",
              "      <td>10</td>\n",
              "      <td>115</td>\n",
              "      <td>0</td>\n",
              "      <td>0</td>\n",
              "      <td>0</td>\n",
              "      <td>35.3</td>\n",
              "      <td>0.134</td>\n",
              "      <td>29</td>\n",
              "      <td>0</td>\n",
              "    </tr>\n",
              "    <tr>\n",
              "      <th>9</th>\n",
              "      <td>8</td>\n",
              "      <td>125</td>\n",
              "      <td>96</td>\n",
              "      <td>0</td>\n",
              "      <td>0</td>\n",
              "      <td>0.0</td>\n",
              "      <td>0.232</td>\n",
              "      <td>54</td>\n",
              "      <td>1</td>\n",
              "    </tr>\n",
              "    <tr>\n",
              "      <th>10</th>\n",
              "      <td>4</td>\n",
              "      <td>110</td>\n",
              "      <td>92</td>\n",
              "      <td>0</td>\n",
              "      <td>0</td>\n",
              "      <td>37.6</td>\n",
              "      <td>0.191</td>\n",
              "      <td>30</td>\n",
              "      <td>0</td>\n",
              "    </tr>\n",
              "    <tr>\n",
              "      <th>...</th>\n",
              "      <td>...</td>\n",
              "      <td>...</td>\n",
              "      <td>...</td>\n",
              "      <td>...</td>\n",
              "      <td>...</td>\n",
              "      <td>...</td>\n",
              "      <td>...</td>\n",
              "      <td>...</td>\n",
              "      <td>...</td>\n",
              "    </tr>\n",
              "    <tr>\n",
              "      <th>757</th>\n",
              "      <td>0</td>\n",
              "      <td>123</td>\n",
              "      <td>72</td>\n",
              "      <td>0</td>\n",
              "      <td>0</td>\n",
              "      <td>36.3</td>\n",
              "      <td>0.258</td>\n",
              "      <td>52</td>\n",
              "      <td>1</td>\n",
              "    </tr>\n",
              "    <tr>\n",
              "      <th>758</th>\n",
              "      <td>1</td>\n",
              "      <td>106</td>\n",
              "      <td>76</td>\n",
              "      <td>0</td>\n",
              "      <td>0</td>\n",
              "      <td>37.5</td>\n",
              "      <td>0.197</td>\n",
              "      <td>26</td>\n",
              "      <td>0</td>\n",
              "    </tr>\n",
              "    <tr>\n",
              "      <th>759</th>\n",
              "      <td>6</td>\n",
              "      <td>190</td>\n",
              "      <td>92</td>\n",
              "      <td>0</td>\n",
              "      <td>0</td>\n",
              "      <td>35.5</td>\n",
              "      <td>0.278</td>\n",
              "      <td>66</td>\n",
              "      <td>1</td>\n",
              "    </tr>\n",
              "    <tr>\n",
              "      <th>762</th>\n",
              "      <td>9</td>\n",
              "      <td>89</td>\n",
              "      <td>62</td>\n",
              "      <td>0</td>\n",
              "      <td>0</td>\n",
              "      <td>22.5</td>\n",
              "      <td>0.142</td>\n",
              "      <td>33</td>\n",
              "      <td>0</td>\n",
              "    </tr>\n",
              "    <tr>\n",
              "      <th>766</th>\n",
              "      <td>1</td>\n",
              "      <td>126</td>\n",
              "      <td>60</td>\n",
              "      <td>0</td>\n",
              "      <td>0</td>\n",
              "      <td>30.1</td>\n",
              "      <td>0.349</td>\n",
              "      <td>47</td>\n",
              "      <td>1</td>\n",
              "    </tr>\n",
              "  </tbody>\n",
              "</table>\n",
              "<p>227 rows × 9 columns</p>\n",
              "</div>"
            ],
            "text/plain": [
              "     Pregnancies  Glucose  ...  Age  Outcome\n",
              "2              8      183  ...   32        1\n",
              "5              5      116  ...   30        0\n",
              "7             10      115  ...   29        0\n",
              "9              8      125  ...   54        1\n",
              "10             4      110  ...   30        0\n",
              "..           ...      ...  ...  ...      ...\n",
              "757            0      123  ...   52        1\n",
              "758            1      106  ...   26        0\n",
              "759            6      190  ...   66        1\n",
              "762            9       89  ...   33        0\n",
              "766            1      126  ...   47        1\n",
              "\n",
              "[227 rows x 9 columns]"
            ]
          },
          "metadata": {},
          "execution_count": 6
        }
      ]
    },
    {
      "cell_type": "markdown",
      "source": [
        "**Seperating the features column and the target column of the task dataset**"
      ],
      "metadata": {
        "id": "urKOyE2Ydu3i"
      }
    },
    {
      "cell_type": "code",
      "source": [
        "# Creating Feature Columns\n",
        "features = dataset[['Pregnancies','Glucose', 'BloodPressure', 'SkinThickness', 'Insulin','BMI','DiabetesPedigreeFunction','Age']]\n",
        "# Creating Target Columns\n",
        "target = dataset[['Outcome']]"
      ],
      "metadata": {
        "id": "gN77nSS_trO8"
      },
      "execution_count": null,
      "outputs": []
    },
    {
      "cell_type": "markdown",
      "source": [
        "**Showing the '1' label(268 out of 768) in target column 'Outcome'**"
      ],
      "metadata": {
        "id": "eCbn6STYdzIp"
      }
    },
    {
      "cell_type": "code",
      "source": [
        "dataset[dataset.Outcome==1]"
      ],
      "metadata": {
        "colab": {
          "base_uri": "https://localhost:8080/",
          "height": 423
        },
        "id": "7cK4aqOYxhLq",
        "outputId": "a5eb3ddc-726f-42b1-ca73-a1d4229bb1f8"
      },
      "execution_count": null,
      "outputs": [
        {
          "output_type": "execute_result",
          "data": {
            "text/html": [
              "<div>\n",
              "<style scoped>\n",
              "    .dataframe tbody tr th:only-of-type {\n",
              "        vertical-align: middle;\n",
              "    }\n",
              "\n",
              "    .dataframe tbody tr th {\n",
              "        vertical-align: top;\n",
              "    }\n",
              "\n",
              "    .dataframe thead th {\n",
              "        text-align: right;\n",
              "    }\n",
              "</style>\n",
              "<table border=\"1\" class=\"dataframe\">\n",
              "  <thead>\n",
              "    <tr style=\"text-align: right;\">\n",
              "      <th></th>\n",
              "      <th>Pregnancies</th>\n",
              "      <th>Glucose</th>\n",
              "      <th>BloodPressure</th>\n",
              "      <th>SkinThickness</th>\n",
              "      <th>Insulin</th>\n",
              "      <th>BMI</th>\n",
              "      <th>DiabetesPedigreeFunction</th>\n",
              "      <th>Age</th>\n",
              "      <th>Outcome</th>\n",
              "    </tr>\n",
              "  </thead>\n",
              "  <tbody>\n",
              "    <tr>\n",
              "      <th>0</th>\n",
              "      <td>6</td>\n",
              "      <td>148</td>\n",
              "      <td>72</td>\n",
              "      <td>35</td>\n",
              "      <td>0</td>\n",
              "      <td>33.6</td>\n",
              "      <td>0.627</td>\n",
              "      <td>50</td>\n",
              "      <td>1</td>\n",
              "    </tr>\n",
              "    <tr>\n",
              "      <th>2</th>\n",
              "      <td>8</td>\n",
              "      <td>183</td>\n",
              "      <td>64</td>\n",
              "      <td>0</td>\n",
              "      <td>0</td>\n",
              "      <td>23.3</td>\n",
              "      <td>0.672</td>\n",
              "      <td>32</td>\n",
              "      <td>1</td>\n",
              "    </tr>\n",
              "    <tr>\n",
              "      <th>4</th>\n",
              "      <td>0</td>\n",
              "      <td>137</td>\n",
              "      <td>40</td>\n",
              "      <td>35</td>\n",
              "      <td>168</td>\n",
              "      <td>43.1</td>\n",
              "      <td>2.288</td>\n",
              "      <td>33</td>\n",
              "      <td>1</td>\n",
              "    </tr>\n",
              "    <tr>\n",
              "      <th>6</th>\n",
              "      <td>3</td>\n",
              "      <td>78</td>\n",
              "      <td>50</td>\n",
              "      <td>32</td>\n",
              "      <td>88</td>\n",
              "      <td>31.0</td>\n",
              "      <td>0.248</td>\n",
              "      <td>26</td>\n",
              "      <td>1</td>\n",
              "    </tr>\n",
              "    <tr>\n",
              "      <th>8</th>\n",
              "      <td>2</td>\n",
              "      <td>197</td>\n",
              "      <td>70</td>\n",
              "      <td>45</td>\n",
              "      <td>543</td>\n",
              "      <td>30.5</td>\n",
              "      <td>0.158</td>\n",
              "      <td>53</td>\n",
              "      <td>1</td>\n",
              "    </tr>\n",
              "    <tr>\n",
              "      <th>...</th>\n",
              "      <td>...</td>\n",
              "      <td>...</td>\n",
              "      <td>...</td>\n",
              "      <td>...</td>\n",
              "      <td>...</td>\n",
              "      <td>...</td>\n",
              "      <td>...</td>\n",
              "      <td>...</td>\n",
              "      <td>...</td>\n",
              "    </tr>\n",
              "    <tr>\n",
              "      <th>755</th>\n",
              "      <td>1</td>\n",
              "      <td>128</td>\n",
              "      <td>88</td>\n",
              "      <td>39</td>\n",
              "      <td>110</td>\n",
              "      <td>36.5</td>\n",
              "      <td>1.057</td>\n",
              "      <td>37</td>\n",
              "      <td>1</td>\n",
              "    </tr>\n",
              "    <tr>\n",
              "      <th>757</th>\n",
              "      <td>0</td>\n",
              "      <td>123</td>\n",
              "      <td>72</td>\n",
              "      <td>0</td>\n",
              "      <td>0</td>\n",
              "      <td>36.3</td>\n",
              "      <td>0.258</td>\n",
              "      <td>52</td>\n",
              "      <td>1</td>\n",
              "    </tr>\n",
              "    <tr>\n",
              "      <th>759</th>\n",
              "      <td>6</td>\n",
              "      <td>190</td>\n",
              "      <td>92</td>\n",
              "      <td>0</td>\n",
              "      <td>0</td>\n",
              "      <td>35.5</td>\n",
              "      <td>0.278</td>\n",
              "      <td>66</td>\n",
              "      <td>1</td>\n",
              "    </tr>\n",
              "    <tr>\n",
              "      <th>761</th>\n",
              "      <td>9</td>\n",
              "      <td>170</td>\n",
              "      <td>74</td>\n",
              "      <td>31</td>\n",
              "      <td>0</td>\n",
              "      <td>44.0</td>\n",
              "      <td>0.403</td>\n",
              "      <td>43</td>\n",
              "      <td>1</td>\n",
              "    </tr>\n",
              "    <tr>\n",
              "      <th>766</th>\n",
              "      <td>1</td>\n",
              "      <td>126</td>\n",
              "      <td>60</td>\n",
              "      <td>0</td>\n",
              "      <td>0</td>\n",
              "      <td>30.1</td>\n",
              "      <td>0.349</td>\n",
              "      <td>47</td>\n",
              "      <td>1</td>\n",
              "    </tr>\n",
              "  </tbody>\n",
              "</table>\n",
              "<p>268 rows × 9 columns</p>\n",
              "</div>"
            ],
            "text/plain": [
              "     Pregnancies  Glucose  ...  Age  Outcome\n",
              "0              6      148  ...   50        1\n",
              "2              8      183  ...   32        1\n",
              "4              0      137  ...   33        1\n",
              "6              3       78  ...   26        1\n",
              "8              2      197  ...   53        1\n",
              "..           ...      ...  ...  ...      ...\n",
              "755            1      128  ...   37        1\n",
              "757            0      123  ...   52        1\n",
              "759            6      190  ...   66        1\n",
              "761            9      170  ...   43        1\n",
              "766            1      126  ...   47        1\n",
              "\n",
              "[268 rows x 9 columns]"
            ]
          },
          "metadata": {},
          "execution_count": 4
        }
      ]
    },
    {
      "cell_type": "markdown",
      "source": [
        "**Showing the '0' label(500 out of 768) in target column 'Outcome'**"
      ],
      "metadata": {
        "id": "3Gc0j0_WeDZv"
      }
    },
    {
      "cell_type": "code",
      "source": [
        "dataset[dataset.Outcome==0]"
      ],
      "metadata": {
        "colab": {
          "base_uri": "https://localhost:8080/",
          "height": 423
        },
        "id": "G6m873d2xqJD",
        "outputId": "58188cdf-5b34-4083-81d7-32824fb0bd04"
      },
      "execution_count": null,
      "outputs": [
        {
          "output_type": "execute_result",
          "data": {
            "text/html": [
              "<div>\n",
              "<style scoped>\n",
              "    .dataframe tbody tr th:only-of-type {\n",
              "        vertical-align: middle;\n",
              "    }\n",
              "\n",
              "    .dataframe tbody tr th {\n",
              "        vertical-align: top;\n",
              "    }\n",
              "\n",
              "    .dataframe thead th {\n",
              "        text-align: right;\n",
              "    }\n",
              "</style>\n",
              "<table border=\"1\" class=\"dataframe\">\n",
              "  <thead>\n",
              "    <tr style=\"text-align: right;\">\n",
              "      <th></th>\n",
              "      <th>Pregnancies</th>\n",
              "      <th>Glucose</th>\n",
              "      <th>BloodPressure</th>\n",
              "      <th>SkinThickness</th>\n",
              "      <th>Insulin</th>\n",
              "      <th>BMI</th>\n",
              "      <th>DiabetesPedigreeFunction</th>\n",
              "      <th>Age</th>\n",
              "      <th>Outcome</th>\n",
              "    </tr>\n",
              "  </thead>\n",
              "  <tbody>\n",
              "    <tr>\n",
              "      <th>1</th>\n",
              "      <td>1</td>\n",
              "      <td>85</td>\n",
              "      <td>66</td>\n",
              "      <td>29</td>\n",
              "      <td>0</td>\n",
              "      <td>26.6</td>\n",
              "      <td>0.351</td>\n",
              "      <td>31</td>\n",
              "      <td>0</td>\n",
              "    </tr>\n",
              "    <tr>\n",
              "      <th>3</th>\n",
              "      <td>1</td>\n",
              "      <td>89</td>\n",
              "      <td>66</td>\n",
              "      <td>23</td>\n",
              "      <td>94</td>\n",
              "      <td>28.1</td>\n",
              "      <td>0.167</td>\n",
              "      <td>21</td>\n",
              "      <td>0</td>\n",
              "    </tr>\n",
              "    <tr>\n",
              "      <th>5</th>\n",
              "      <td>5</td>\n",
              "      <td>116</td>\n",
              "      <td>74</td>\n",
              "      <td>0</td>\n",
              "      <td>0</td>\n",
              "      <td>25.6</td>\n",
              "      <td>0.201</td>\n",
              "      <td>30</td>\n",
              "      <td>0</td>\n",
              "    </tr>\n",
              "    <tr>\n",
              "      <th>7</th>\n",
              "      <td>10</td>\n",
              "      <td>115</td>\n",
              "      <td>0</td>\n",
              "      <td>0</td>\n",
              "      <td>0</td>\n",
              "      <td>35.3</td>\n",
              "      <td>0.134</td>\n",
              "      <td>29</td>\n",
              "      <td>0</td>\n",
              "    </tr>\n",
              "    <tr>\n",
              "      <th>10</th>\n",
              "      <td>4</td>\n",
              "      <td>110</td>\n",
              "      <td>92</td>\n",
              "      <td>0</td>\n",
              "      <td>0</td>\n",
              "      <td>37.6</td>\n",
              "      <td>0.191</td>\n",
              "      <td>30</td>\n",
              "      <td>0</td>\n",
              "    </tr>\n",
              "    <tr>\n",
              "      <th>...</th>\n",
              "      <td>...</td>\n",
              "      <td>...</td>\n",
              "      <td>...</td>\n",
              "      <td>...</td>\n",
              "      <td>...</td>\n",
              "      <td>...</td>\n",
              "      <td>...</td>\n",
              "      <td>...</td>\n",
              "      <td>...</td>\n",
              "    </tr>\n",
              "    <tr>\n",
              "      <th>762</th>\n",
              "      <td>9</td>\n",
              "      <td>89</td>\n",
              "      <td>62</td>\n",
              "      <td>0</td>\n",
              "      <td>0</td>\n",
              "      <td>22.5</td>\n",
              "      <td>0.142</td>\n",
              "      <td>33</td>\n",
              "      <td>0</td>\n",
              "    </tr>\n",
              "    <tr>\n",
              "      <th>763</th>\n",
              "      <td>10</td>\n",
              "      <td>101</td>\n",
              "      <td>76</td>\n",
              "      <td>48</td>\n",
              "      <td>180</td>\n",
              "      <td>32.9</td>\n",
              "      <td>0.171</td>\n",
              "      <td>63</td>\n",
              "      <td>0</td>\n",
              "    </tr>\n",
              "    <tr>\n",
              "      <th>764</th>\n",
              "      <td>2</td>\n",
              "      <td>122</td>\n",
              "      <td>70</td>\n",
              "      <td>27</td>\n",
              "      <td>0</td>\n",
              "      <td>36.8</td>\n",
              "      <td>0.340</td>\n",
              "      <td>27</td>\n",
              "      <td>0</td>\n",
              "    </tr>\n",
              "    <tr>\n",
              "      <th>765</th>\n",
              "      <td>5</td>\n",
              "      <td>121</td>\n",
              "      <td>72</td>\n",
              "      <td>23</td>\n",
              "      <td>112</td>\n",
              "      <td>26.2</td>\n",
              "      <td>0.245</td>\n",
              "      <td>30</td>\n",
              "      <td>0</td>\n",
              "    </tr>\n",
              "    <tr>\n",
              "      <th>767</th>\n",
              "      <td>1</td>\n",
              "      <td>93</td>\n",
              "      <td>70</td>\n",
              "      <td>31</td>\n",
              "      <td>0</td>\n",
              "      <td>30.4</td>\n",
              "      <td>0.315</td>\n",
              "      <td>23</td>\n",
              "      <td>0</td>\n",
              "    </tr>\n",
              "  </tbody>\n",
              "</table>\n",
              "<p>500 rows × 9 columns</p>\n",
              "</div>"
            ],
            "text/plain": [
              "     Pregnancies  Glucose  ...  Age  Outcome\n",
              "1              1       85  ...   31        0\n",
              "3              1       89  ...   21        0\n",
              "5              5      116  ...   30        0\n",
              "7             10      115  ...   29        0\n",
              "10             4      110  ...   30        0\n",
              "..           ...      ...  ...  ...      ...\n",
              "762            9       89  ...   33        0\n",
              "763           10      101  ...   63        0\n",
              "764            2      122  ...   27        0\n",
              "765            5      121  ...   30        0\n",
              "767            1       93  ...   23        0\n",
              "\n",
              "[500 rows x 9 columns]"
            ]
          },
          "metadata": {},
          "execution_count": 5
        }
      ]
    },
    {
      "cell_type": "markdown",
      "source": [
        "**Exploratory Data Analysis:**"
      ],
      "metadata": {
        "id": "1yphEbNiWDu0"
      }
    },
    {
      "cell_type": "code",
      "source": [
        "! pip install klib\n",
        "import klib"
      ],
      "metadata": {
        "colab": {
          "base_uri": "https://localhost:8080/"
        },
        "id": "hUGerturV8F8",
        "outputId": "a63b827a-64bc-4e84-dcca-2f9bfd482b3e"
      },
      "execution_count": null,
      "outputs": [
        {
          "output_type": "stream",
          "name": "stdout",
          "text": [
            "Collecting klib\n",
            "  Downloading klib-0.2.1-py3-none-any.whl (28 kB)\n",
            "Requirement already satisfied: scipy>=1.1.0 in /usr/local/lib/python3.7/dist-packages (from klib) (1.4.1)\n",
            "Requirement already satisfied: pandas>=1.1.2 in /usr/local/lib/python3.7/dist-packages (from klib) (1.1.5)\n",
            "Requirement already satisfied: scikit-learn>=0.23.1 in /usr/local/lib/python3.7/dist-packages (from klib) (1.0.1)\n",
            "Requirement already satisfied: seaborn>=0.11.1 in /usr/local/lib/python3.7/dist-packages (from klib) (0.11.2)\n",
            "Requirement already satisfied: numpy>=1.16.3 in /usr/local/lib/python3.7/dist-packages (from klib) (1.19.5)\n",
            "Requirement already satisfied: matplotlib>=3.0.3 in /usr/local/lib/python3.7/dist-packages (from klib) (3.2.2)\n",
            "Requirement already satisfied: pyparsing!=2.0.4,!=2.1.2,!=2.1.6,>=2.0.1 in /usr/local/lib/python3.7/dist-packages (from matplotlib>=3.0.3->klib) (3.0.6)\n",
            "Requirement already satisfied: cycler>=0.10 in /usr/local/lib/python3.7/dist-packages (from matplotlib>=3.0.3->klib) (0.11.0)\n",
            "Requirement already satisfied: python-dateutil>=2.1 in /usr/local/lib/python3.7/dist-packages (from matplotlib>=3.0.3->klib) (2.8.2)\n",
            "Requirement already satisfied: kiwisolver>=1.0.1 in /usr/local/lib/python3.7/dist-packages (from matplotlib>=3.0.3->klib) (1.3.2)\n",
            "Requirement already satisfied: pytz>=2017.2 in /usr/local/lib/python3.7/dist-packages (from pandas>=1.1.2->klib) (2018.9)\n",
            "Requirement already satisfied: six>=1.5 in /usr/local/lib/python3.7/dist-packages (from python-dateutil>=2.1->matplotlib>=3.0.3->klib) (1.15.0)\n",
            "Requirement already satisfied: joblib>=0.11 in /usr/local/lib/python3.7/dist-packages (from scikit-learn>=0.23.1->klib) (1.1.0)\n",
            "Requirement already satisfied: threadpoolctl>=2.0.0 in /usr/local/lib/python3.7/dist-packages (from scikit-learn>=0.23.1->klib) (3.0.0)\n",
            "Installing collected packages: klib\n",
            "Successfully installed klib-0.2.1\n"
          ]
        }
      ]
    },
    {
      "cell_type": "markdown",
      "source": [
        "**To show the co-rrelation of the features columns with target column**"
      ],
      "metadata": {
        "id": "AuvpN8JofS2x"
      }
    },
    {
      "cell_type": "code",
      "source": [
        "klib.corr_plot(dataset)"
      ],
      "metadata": {
        "colab": {
          "base_uri": "https://localhost:8080/",
          "height": 749
        },
        "id": "VmK3jiOaWMqU",
        "outputId": "f44a5bad-a336-42fc-810d-e394b3bdfc48"
      },
      "execution_count": null,
      "outputs": [
        {
          "output_type": "execute_result",
          "data": {
            "text/plain": [
              "<matplotlib.axes._subplots.AxesSubplot at 0x7f7f5507db50>"
            ]
          },
          "metadata": {},
          "execution_count": 23
        },
        {
          "output_type": "display_data",
          "data": {
            "image/png": "[encoded data removed]",
            "text/plain": [
              "<Figure size 864x720 with 2 Axes>"
            ]
          },
          "metadata": {
            "needs_background": "light"
          }
        }
      ]
    },
    {
      "cell_type": "code",
      "source": [
        "klib.corr_mat(dataset) # This returns a color-encoded correlation matrix"
      ],
      "metadata": {
        "colab": {
          "base_uri": "https://localhost:8080/",
          "height": 332
        },
        "id": "g1-VDkf4WSuD",
        "outputId": "1f6d3589-0c0f-408c-a068-a7ab249a0ca8"
      },
      "execution_count": null,
      "outputs": [
        {
          "output_type": "execute_result",
          "data": {
            "text/html": [
              "<style  type=\"text/css\" >\n",
              "#T_e11a8c10_5e70_11ec_abee_0242ac1c0002row0_col0,#T_e11a8c10_5e70_11ec_abee_0242ac1c0002row0_col1,#T_e11a8c10_5e70_11ec_abee_0242ac1c0002row0_col2,#T_e11a8c10_5e70_11ec_abee_0242ac1c0002row0_col5,#T_e11a8c10_5e70_11ec_abee_0242ac1c0002row0_col7,#T_e11a8c10_5e70_11ec_abee_0242ac1c0002row0_col8,#T_e11a8c10_5e70_11ec_abee_0242ac1c0002row1_col0,#T_e11a8c10_5e70_11ec_abee_0242ac1c0002row1_col1,#T_e11a8c10_5e70_11ec_abee_0242ac1c0002row1_col2,#T_e11a8c10_5e70_11ec_abee_0242ac1c0002row1_col3,#T_e11a8c10_5e70_11ec_abee_0242ac1c0002row1_col4,#T_e11a8c10_5e70_11ec_abee_0242ac1c0002row1_col5,#T_e11a8c10_5e70_11ec_abee_0242ac1c0002row1_col6,#T_e11a8c10_5e70_11ec_abee_0242ac1c0002row1_col7,#T_e11a8c10_5e70_11ec_abee_0242ac1c0002row1_col8,#T_e11a8c10_5e70_11ec_abee_0242ac1c0002row2_col0,#T_e11a8c10_5e70_11ec_abee_0242ac1c0002row2_col1,#T_e11a8c10_5e70_11ec_abee_0242ac1c0002row2_col2,#T_e11a8c10_5e70_11ec_abee_0242ac1c0002row2_col3,#T_e11a8c10_5e70_11ec_abee_0242ac1c0002row2_col4,#T_e11a8c10_5e70_11ec_abee_0242ac1c0002row2_col5,#T_e11a8c10_5e70_11ec_abee_0242ac1c0002row2_col6,#T_e11a8c10_5e70_11ec_abee_0242ac1c0002row2_col7,#T_e11a8c10_5e70_11ec_abee_0242ac1c0002row2_col8,#T_e11a8c10_5e70_11ec_abee_0242ac1c0002row3_col1,#T_e11a8c10_5e70_11ec_abee_0242ac1c0002row3_col2,#T_e11a8c10_5e70_11ec_abee_0242ac1c0002row3_col3,#T_e11a8c10_5e70_11ec_abee_0242ac1c0002row3_col4,#T_e11a8c10_5e70_11ec_abee_0242ac1c0002row3_col5,#T_e11a8c10_5e70_11ec_abee_0242ac1c0002row3_col6,#T_e11a8c10_5e70_11ec_abee_0242ac1c0002row3_col8,#T_e11a8c10_5e70_11ec_abee_0242ac1c0002row4_col1,#T_e11a8c10_5e70_11ec_abee_0242ac1c0002row4_col2,#T_e11a8c10_5e70_11ec_abee_0242ac1c0002row4_col3,#T_e11a8c10_5e70_11ec_abee_0242ac1c0002row4_col4,#T_e11a8c10_5e70_11ec_abee_0242ac1c0002row4_col5,#T_e11a8c10_5e70_11ec_abee_0242ac1c0002row4_col6,#T_e11a8c10_5e70_11ec_abee_0242ac1c0002row4_col8,#T_e11a8c10_5e70_11ec_abee_0242ac1c0002row5_col0,#T_e11a8c10_5e70_11ec_abee_0242ac1c0002row5_col1,#T_e11a8c10_5e70_11ec_abee_0242ac1c0002row5_col2,#T_e11a8c10_5e70_11ec_abee_0242ac1c0002row5_col3,#T_e11a8c10_5e70_11ec_abee_0242ac1c0002row5_col4,#T_e11a8c10_5e70_11ec_abee_0242ac1c0002row5_col5,#T_e11a8c10_5e70_11ec_abee_0242ac1c0002row5_col6,#T_e11a8c10_5e70_11ec_abee_0242ac1c0002row5_col7,#T_e11a8c10_5e70_11ec_abee_0242ac1c0002row5_col8,#T_e11a8c10_5e70_11ec_abee_0242ac1c0002row6_col1,#T_e11a8c10_5e70_11ec_abee_0242ac1c0002row6_col2,#T_e11a8c10_5e70_11ec_abee_0242ac1c0002row6_col3,#T_e11a8c10_5e70_11ec_abee_0242ac1c0002row6_col4,#T_e11a8c10_5e70_11ec_abee_0242ac1c0002row6_col5,#T_e11a8c10_5e70_11ec_abee_0242ac1c0002row6_col6,#T_e11a8c10_5e70_11ec_abee_0242ac1c0002row6_col7,#T_e11a8c10_5e70_11ec_abee_0242ac1c0002row6_col8,#T_e11a8c10_5e70_11ec_abee_0242ac1c0002row7_col0,#T_e11a8c10_5e70_11ec_abee_0242ac1c0002row7_col1,#T_e11a8c10_5e70_11ec_abee_0242ac1c0002row7_col2,#T_e11a8c10_5e70_11ec_abee_0242ac1c0002row7_col5,#T_e11a8c10_5e70_11ec_abee_0242ac1c0002row7_col6,#T_e11a8c10_5e70_11ec_abee_0242ac1c0002row7_col7,#T_e11a8c10_5e70_11ec_abee_0242ac1c0002row7_col8,#T_e11a8c10_5e70_11ec_abee_0242ac1c0002row8_col0,#T_e11a8c10_5e70_11ec_abee_0242ac1c0002row8_col1,#T_e11a8c10_5e70_11ec_abee_0242ac1c0002row8_col2,#T_e11a8c10_5e70_11ec_abee_0242ac1c0002row8_col3,#T_e11a8c10_5e70_11ec_abee_0242ac1c0002row8_col4,#T_e11a8c10_5e70_11ec_abee_0242ac1c0002row8_col5,#T_e11a8c10_5e70_11ec_abee_0242ac1c0002row8_col6,#T_e11a8c10_5e70_11ec_abee_0242ac1c0002row8_col7,#T_e11a8c10_5e70_11ec_abee_0242ac1c0002row8_col8{\n",
              "            color:  None;\n",
              "        }#T_e11a8c10_5e70_11ec_abee_0242ac1c0002row0_col3,#T_e11a8c10_5e70_11ec_abee_0242ac1c0002row0_col4,#T_e11a8c10_5e70_11ec_abee_0242ac1c0002row0_col6,#T_e11a8c10_5e70_11ec_abee_0242ac1c0002row3_col0,#T_e11a8c10_5e70_11ec_abee_0242ac1c0002row3_col7,#T_e11a8c10_5e70_11ec_abee_0242ac1c0002row4_col0,#T_e11a8c10_5e70_11ec_abee_0242ac1c0002row4_col7,#T_e11a8c10_5e70_11ec_abee_0242ac1c0002row6_col0,#T_e11a8c10_5e70_11ec_abee_0242ac1c0002row7_col3,#T_e11a8c10_5e70_11ec_abee_0242ac1c0002row7_col4{\n",
              "            color:  #FF3344;\n",
              "        }</style><table id=\"T_e11a8c10_5e70_11ec_abee_0242ac1c0002\" class=\"dataframe\"><thead>    <tr>        <th class=\"blank level0\" ></th>        <th class=\"col_heading level0 col0\" >Pregnancies</th>        <th class=\"col_heading level0 col1\" >Glucose</th>        <th class=\"col_heading level0 col2\" >BloodPressure</th>        <th class=\"col_heading level0 col3\" >SkinThickness</th>        <th class=\"col_heading level0 col4\" >Insulin</th>        <th class=\"col_heading level0 col5\" >BMI</th>        <th class=\"col_heading level0 col6\" >DiabetesPedigreeFunction</th>        <th class=\"col_heading level0 col7\" >Age</th>        <th class=\"col_heading level0 col8\" >Outcome</th>    </tr></thead><tbody>\n",
              "                <tr>\n",
              "                        <th id=\"T_e11a8c10_5e70_11ec_abee_0242ac1c0002level0_row0\" class=\"row_heading level0 row0\" >Pregnancies</th>\n",
              "                        <td id=\"T_e11a8c10_5e70_11ec_abee_0242ac1c0002row0_col0\" class=\"data row0 col0\" >1.00</td>\n",
              "                        <td id=\"T_e11a8c10_5e70_11ec_abee_0242ac1c0002row0_col1\" class=\"data row0 col1\" >0.13</td>\n",
              "                        <td id=\"T_e11a8c10_5e70_11ec_abee_0242ac1c0002row0_col2\" class=\"data row0 col2\" >0.14</td>\n",
              "                        <td id=\"T_e11a8c10_5e70_11ec_abee_0242ac1c0002row0_col3\" class=\"data row0 col3\" >-0.08</td>\n",
              "                        <td id=\"T_e11a8c10_5e70_11ec_abee_0242ac1c0002row0_col4\" class=\"data row0 col4\" >-0.07</td>\n",
              "                        <td id=\"T_e11a8c10_5e70_11ec_abee_0242ac1c0002row0_col5\" class=\"data row0 col5\" >0.02</td>\n",
              "                        <td id=\"T_e11a8c10_5e70_11ec_abee_0242ac1c0002row0_col6\" class=\"data row0 col6\" >-0.03</td>\n",
              "                        <td id=\"T_e11a8c10_5e70_11ec_abee_0242ac1c0002row0_col7\" class=\"data row0 col7\" >0.54</td>\n",
              "                        <td id=\"T_e11a8c10_5e70_11ec_abee_0242ac1c0002row0_col8\" class=\"data row0 col8\" >0.22</td>\n",
              "            </tr>\n",
              "            <tr>\n",
              "                        <th id=\"T_e11a8c10_5e70_11ec_abee_0242ac1c0002level0_row1\" class=\"row_heading level0 row1\" >Glucose</th>\n",
              "                        <td id=\"T_e11a8c10_5e70_11ec_abee_0242ac1c0002row1_col0\" class=\"data row1 col0\" >0.13</td>\n",
              "                        <td id=\"T_e11a8c10_5e70_11ec_abee_0242ac1c0002row1_col1\" class=\"data row1 col1\" >1.00</td>\n",
              "                        <td id=\"T_e11a8c10_5e70_11ec_abee_0242ac1c0002row1_col2\" class=\"data row1 col2\" >0.15</td>\n",
              "                        <td id=\"T_e11a8c10_5e70_11ec_abee_0242ac1c0002row1_col3\" class=\"data row1 col3\" >0.06</td>\n",
              "                        <td id=\"T_e11a8c10_5e70_11ec_abee_0242ac1c0002row1_col4\" class=\"data row1 col4\" >0.33</td>\n",
              "                        <td id=\"T_e11a8c10_5e70_11ec_abee_0242ac1c0002row1_col5\" class=\"data row1 col5\" >0.22</td>\n",
              "                        <td id=\"T_e11a8c10_5e70_11ec_abee_0242ac1c0002row1_col6\" class=\"data row1 col6\" >0.14</td>\n",
              "                        <td id=\"T_e11a8c10_5e70_11ec_abee_0242ac1c0002row1_col7\" class=\"data row1 col7\" >0.26</td>\n",
              "                        <td id=\"T_e11a8c10_5e70_11ec_abee_0242ac1c0002row1_col8\" class=\"data row1 col8\" >0.47</td>\n",
              "            </tr>\n",
              "            <tr>\n",
              "                        <th id=\"T_e11a8c10_5e70_11ec_abee_0242ac1c0002level0_row2\" class=\"row_heading level0 row2\" >BloodPressure</th>\n",
              "                        <td id=\"T_e11a8c10_5e70_11ec_abee_0242ac1c0002row2_col0\" class=\"data row2 col0\" >0.14</td>\n",
              "                        <td id=\"T_e11a8c10_5e70_11ec_abee_0242ac1c0002row2_col1\" class=\"data row2 col1\" >0.15</td>\n",
              "                        <td id=\"T_e11a8c10_5e70_11ec_abee_0242ac1c0002row2_col2\" class=\"data row2 col2\" >1.00</td>\n",
              "                        <td id=\"T_e11a8c10_5e70_11ec_abee_0242ac1c0002row2_col3\" class=\"data row2 col3\" >0.21</td>\n",
              "                        <td id=\"T_e11a8c10_5e70_11ec_abee_0242ac1c0002row2_col4\" class=\"data row2 col4\" >0.09</td>\n",
              "                        <td id=\"T_e11a8c10_5e70_11ec_abee_0242ac1c0002row2_col5\" class=\"data row2 col5\" >0.28</td>\n",
              "                        <td id=\"T_e11a8c10_5e70_11ec_abee_0242ac1c0002row2_col6\" class=\"data row2 col6\" >0.04</td>\n",
              "                        <td id=\"T_e11a8c10_5e70_11ec_abee_0242ac1c0002row2_col7\" class=\"data row2 col7\" >0.24</td>\n",
              "                        <td id=\"T_e11a8c10_5e70_11ec_abee_0242ac1c0002row2_col8\" class=\"data row2 col8\" >0.07</td>\n",
              "            </tr>\n",
              "            <tr>\n",
              "                        <th id=\"T_e11a8c10_5e70_11ec_abee_0242ac1c0002level0_row3\" class=\"row_heading level0 row3\" >SkinThickness</th>\n",
              "                        <td id=\"T_e11a8c10_5e70_11ec_abee_0242ac1c0002row3_col0\" class=\"data row3 col0\" >-0.08</td>\n",
              "                        <td id=\"T_e11a8c10_5e70_11ec_abee_0242ac1c0002row3_col1\" class=\"data row3 col1\" >0.06</td>\n",
              "                        <td id=\"T_e11a8c10_5e70_11ec_abee_0242ac1c0002row3_col2\" class=\"data row3 col2\" >0.21</td>\n",
              "                        <td id=\"T_e11a8c10_5e70_11ec_abee_0242ac1c0002row3_col3\" class=\"data row3 col3\" >1.00</td>\n",
              "                        <td id=\"T_e11a8c10_5e70_11ec_abee_0242ac1c0002row3_col4\" class=\"data row3 col4\" >0.44</td>\n",
              "                        <td id=\"T_e11a8c10_5e70_11ec_abee_0242ac1c0002row3_col5\" class=\"data row3 col5\" >0.39</td>\n",
              "                        <td id=\"T_e11a8c10_5e70_11ec_abee_0242ac1c0002row3_col6\" class=\"data row3 col6\" >0.18</td>\n",
              "                        <td id=\"T_e11a8c10_5e70_11ec_abee_0242ac1c0002row3_col7\" class=\"data row3 col7\" >-0.11</td>\n",
              "                        <td id=\"T_e11a8c10_5e70_11ec_abee_0242ac1c0002row3_col8\" class=\"data row3 col8\" >0.07</td>\n",
              "            </tr>\n",
              "            <tr>\n",
              "                        <th id=\"T_e11a8c10_5e70_11ec_abee_0242ac1c0002level0_row4\" class=\"row_heading level0 row4\" >Insulin</th>\n",
              "                        <td id=\"T_e11a8c10_5e70_11ec_abee_0242ac1c0002row4_col0\" class=\"data row4 col0\" >-0.07</td>\n",
              "                        <td id=\"T_e11a8c10_5e70_11ec_abee_0242ac1c0002row4_col1\" class=\"data row4 col1\" >0.33</td>\n",
              "                        <td id=\"T_e11a8c10_5e70_11ec_abee_0242ac1c0002row4_col2\" class=\"data row4 col2\" >0.09</td>\n",
              "                        <td id=\"T_e11a8c10_5e70_11ec_abee_0242ac1c0002row4_col3\" class=\"data row4 col3\" >0.44</td>\n",
              "                        <td id=\"T_e11a8c10_5e70_11ec_abee_0242ac1c0002row4_col4\" class=\"data row4 col4\" >1.00</td>\n",
              "                        <td id=\"T_e11a8c10_5e70_11ec_abee_0242ac1c0002row4_col5\" class=\"data row4 col5\" >0.20</td>\n",
              "                        <td id=\"T_e11a8c10_5e70_11ec_abee_0242ac1c0002row4_col6\" class=\"data row4 col6\" >0.19</td>\n",
              "                        <td id=\"T_e11a8c10_5e70_11ec_abee_0242ac1c0002row4_col7\" class=\"data row4 col7\" >-0.04</td>\n",
              "                        <td id=\"T_e11a8c10_5e70_11ec_abee_0242ac1c0002row4_col8\" class=\"data row4 col8\" >0.13</td>\n",
              "            </tr>\n",
              "            <tr>\n",
              "                        <th id=\"T_e11a8c10_5e70_11ec_abee_0242ac1c0002level0_row5\" class=\"row_heading level0 row5\" >BMI</th>\n",
              "                        <td id=\"T_e11a8c10_5e70_11ec_abee_0242ac1c0002row5_col0\" class=\"data row5 col0\" >0.02</td>\n",
              "                        <td id=\"T_e11a8c10_5e70_11ec_abee_0242ac1c0002row5_col1\" class=\"data row5 col1\" >0.22</td>\n",
              "                        <td id=\"T_e11a8c10_5e70_11ec_abee_0242ac1c0002row5_col2\" class=\"data row5 col2\" >0.28</td>\n",
              "                        <td id=\"T_e11a8c10_5e70_11ec_abee_0242ac1c0002row5_col3\" class=\"data row5 col3\" >0.39</td>\n",
              "                        <td id=\"T_e11a8c10_5e70_11ec_abee_0242ac1c0002row5_col4\" class=\"data row5 col4\" >0.20</td>\n",
              "                        <td id=\"T_e11a8c10_5e70_11ec_abee_0242ac1c0002row5_col5\" class=\"data row5 col5\" >1.00</td>\n",
              "                        <td id=\"T_e11a8c10_5e70_11ec_abee_0242ac1c0002row5_col6\" class=\"data row5 col6\" >0.14</td>\n",
              "                        <td id=\"T_e11a8c10_5e70_11ec_abee_0242ac1c0002row5_col7\" class=\"data row5 col7\" >0.04</td>\n",
              "                        <td id=\"T_e11a8c10_5e70_11ec_abee_0242ac1c0002row5_col8\" class=\"data row5 col8\" >0.29</td>\n",
              "            </tr>\n",
              "            <tr>\n",
              "                        <th id=\"T_e11a8c10_5e70_11ec_abee_0242ac1c0002level0_row6\" class=\"row_heading level0 row6\" >DiabetesPedigreeFunction</th>\n",
              "                        <td id=\"T_e11a8c10_5e70_11ec_abee_0242ac1c0002row6_col0\" class=\"data row6 col0\" >-0.03</td>\n",
              "                        <td id=\"T_e11a8c10_5e70_11ec_abee_0242ac1c0002row6_col1\" class=\"data row6 col1\" >0.14</td>\n",
              "                        <td id=\"T_e11a8c10_5e70_11ec_abee_0242ac1c0002row6_col2\" class=\"data row6 col2\" >0.04</td>\n",
              "                        <td id=\"T_e11a8c10_5e70_11ec_abee_0242ac1c0002row6_col3\" class=\"data row6 col3\" >0.18</td>\n",
              "                        <td id=\"T_e11a8c10_5e70_11ec_abee_0242ac1c0002row6_col4\" class=\"data row6 col4\" >0.19</td>\n",
              "                        <td id=\"T_e11a8c10_5e70_11ec_abee_0242ac1c0002row6_col5\" class=\"data row6 col5\" >0.14</td>\n",
              "                        <td id=\"T_e11a8c10_5e70_11ec_abee_0242ac1c0002row6_col6\" class=\"data row6 col6\" >1.00</td>\n",
              "                        <td id=\"T_e11a8c10_5e70_11ec_abee_0242ac1c0002row6_col7\" class=\"data row6 col7\" >0.03</td>\n",
              "                        <td id=\"T_e11a8c10_5e70_11ec_abee_0242ac1c0002row6_col8\" class=\"data row6 col8\" >0.17</td>\n",
              "            </tr>\n",
              "            <tr>\n",
              "                        <th id=\"T_e11a8c10_5e70_11ec_abee_0242ac1c0002level0_row7\" class=\"row_heading level0 row7\" >Age</th>\n",
              "                        <td id=\"T_e11a8c10_5e70_11ec_abee_0242ac1c0002row7_col0\" class=\"data row7 col0\" >0.54</td>\n",
              "                        <td id=\"T_e11a8c10_5e70_11ec_abee_0242ac1c0002row7_col1\" class=\"data row7 col1\" >0.26</td>\n",
              "                        <td id=\"T_e11a8c10_5e70_11ec_abee_0242ac1c0002row7_col2\" class=\"data row7 col2\" >0.24</td>\n",
              "                        <td id=\"T_e11a8c10_5e70_11ec_abee_0242ac1c0002row7_col3\" class=\"data row7 col3\" >-0.11</td>\n",
              "                        <td id=\"T_e11a8c10_5e70_11ec_abee_0242ac1c0002row7_col4\" class=\"data row7 col4\" >-0.04</td>\n",
              "                        <td id=\"T_e11a8c10_5e70_11ec_abee_0242ac1c0002row7_col5\" class=\"data row7 col5\" >0.04</td>\n",
              "                        <td id=\"T_e11a8c10_5e70_11ec_abee_0242ac1c0002row7_col6\" class=\"data row7 col6\" >0.03</td>\n",
              "                        <td id=\"T_e11a8c10_5e70_11ec_abee_0242ac1c0002row7_col7\" class=\"data row7 col7\" >1.00</td>\n",
              "                        <td id=\"T_e11a8c10_5e70_11ec_abee_0242ac1c0002row7_col8\" class=\"data row7 col8\" >0.24</td>\n",
              "            </tr>\n",
              "            <tr>\n",
              "                        <th id=\"T_e11a8c10_5e70_11ec_abee_0242ac1c0002level0_row8\" class=\"row_heading level0 row8\" >Outcome</th>\n",
              "                        <td id=\"T_e11a8c10_5e70_11ec_abee_0242ac1c0002row8_col0\" class=\"data row8 col0\" >0.22</td>\n",
              "                        <td id=\"T_e11a8c10_5e70_11ec_abee_0242ac1c0002row8_col1\" class=\"data row8 col1\" >0.47</td>\n",
              "                        <td id=\"T_e11a8c10_5e70_11ec_abee_0242ac1c0002row8_col2\" class=\"data row8 col2\" >0.07</td>\n",
              "                        <td id=\"T_e11a8c10_5e70_11ec_abee_0242ac1c0002row8_col3\" class=\"data row8 col3\" >0.07</td>\n",
              "                        <td id=\"T_e11a8c10_5e70_11ec_abee_0242ac1c0002row8_col4\" class=\"data row8 col4\" >0.13</td>\n",
              "                        <td id=\"T_e11a8c10_5e70_11ec_abee_0242ac1c0002row8_col5\" class=\"data row8 col5\" >0.29</td>\n",
              "                        <td id=\"T_e11a8c10_5e70_11ec_abee_0242ac1c0002row8_col6\" class=\"data row8 col6\" >0.17</td>\n",
              "                        <td id=\"T_e11a8c10_5e70_11ec_abee_0242ac1c0002row8_col7\" class=\"data row8 col7\" >0.24</td>\n",
              "                        <td id=\"T_e11a8c10_5e70_11ec_abee_0242ac1c0002row8_col8\" class=\"data row8 col8\" >1.00</td>\n",
              "            </tr>\n",
              "    </tbody></table>"
            ],
            "text/plain": [
              "<pandas.io.formats.style.Styler at 0x7f7f36ab9a10>"
            ]
          },
          "metadata": {},
          "execution_count": 24
        }
      ]
    },
    {
      "cell_type": "markdown",
      "source": [
        "**Importing necessary libraries**"
      ],
      "metadata": {
        "id": "dkR7Di_rfbXZ"
      }
    },
    {
      "cell_type": "code",
      "source": [
        "import numpy as np\n",
        "import pandas as pd\n",
        "import matplotlib.pyplot as plt\n",
        "from sklearn.preprocessing import LabelEncoder,OneHotEncoder\n",
        "from sklearn.model_selection import train_test_split\n",
        "from sklearn.preprocessing import StandardScaler\n",
        "from sklearn.metrics import classification_report,confusion_matrix,accuracy_score,f1_score,precision_score,recall_score"
      ],
      "metadata": {
        "id": "y0yrTcM7uLCq"
      },
      "execution_count": null,
      "outputs": []
    },
    {
      "cell_type": "markdown",
      "source": [
        "**No null value in 'age' column**"
      ],
      "metadata": {
        "id": "uFsiB-Bnfdlh"
      }
    },
    {
      "cell_type": "code",
      "source": [
        "dataset[dataset.Age. isnull()]"
      ],
      "metadata": {
        "colab": {
          "base_uri": "https://localhost:8080/",
          "height": 49
        },
        "id": "9gFBHyC8uMID",
        "outputId": "cade998f-b3da-4256-b6da-86f7d623110a"
      },
      "execution_count": null,
      "outputs": [
        {
          "output_type": "execute_result",
          "data": {
            "text/html": [
              "<div>\n",
              "<style scoped>\n",
              "    .dataframe tbody tr th:only-of-type {\n",
              "        vertical-align: middle;\n",
              "    }\n",
              "\n",
              "    .dataframe tbody tr th {\n",
              "        vertical-align: top;\n",
              "    }\n",
              "\n",
              "    .dataframe thead th {\n",
              "        text-align: right;\n",
              "    }\n",
              "</style>\n",
              "<table border=\"1\" class=\"dataframe\">\n",
              "  <thead>\n",
              "    <tr style=\"text-align: right;\">\n",
              "      <th></th>\n",
              "      <th>Pregnancies</th>\n",
              "      <th>Glucose</th>\n",
              "      <th>BloodPressure</th>\n",
              "      <th>SkinThickness</th>\n",
              "      <th>Insulin</th>\n",
              "      <th>BMI</th>\n",
              "      <th>DiabetesPedigreeFunction</th>\n",
              "      <th>Age</th>\n",
              "      <th>Outcome</th>\n",
              "    </tr>\n",
              "  </thead>\n",
              "  <tbody>\n",
              "  </tbody>\n",
              "</table>\n",
              "</div>"
            ],
            "text/plain": [
              "Empty DataFrame\n",
              "Columns: [Pregnancies, Glucose, BloodPressure, SkinThickness, Insulin, BMI, DiabetesPedigreeFunction, Age, Outcome]\n",
              "Index: []"
            ]
          },
          "metadata": {},
          "execution_count": 6
        }
      ]
    },
    {
      "cell_type": "markdown",
      "source": [
        "**Peroformance measure of all 6 Machine Learning Classification Algorithms**"
      ],
      "metadata": {
        "id": "_7Yew-KOfo5n"
      }
    },
    {
      "cell_type": "code",
      "source": [
        "import warnings\n",
        "warnings.filterwarnings('ignore')\n",
        "X_train,X_test,y_train,y_test=train_test_split(features,target,test_size = 0.20,random_state = 0)\n",
        "print(\"The shape of train set\",X_train.shape)\n",
        "print(\"The shape of test set\",X_test.shape)\n",
        "\n",
        "X_sc = StandardScaler()\n",
        "X_train = X_sc.fit_transform(X_train)\n",
        "X_test = X_sc.transform(X_test)\n",
        "\n",
        "from sklearn.linear_model import LogisticRegression\n",
        "lr = LogisticRegression()\n",
        "lr.fit(X_train,y_train) #Fitting into the training set\n",
        "y_pred1 = lr.predict(X_test) # prediction on the test model\n",
        "conf1=confusion_matrix(y_test,y_pred1) # Making the confusing matrix (actual vs prediction)\n",
        "print(conf1)\n",
        "print('The performnace measurement of the logistic regression: \\n ',classification_report(y_test,y_pred1,target_names = ['No','Yes']))\n",
        "\n",
        "from sklearn.neighbors import KNeighborsClassifier\n",
        "classifier = KNeighborsClassifier(n_neighbors=3, metric = 'minkowski', p=2)\n",
        "classifier.fit(X_train,y_train)\n",
        "y_pred2 = classifier.predict(X_test)\n",
        "conf2=confusion_matrix(y_test,y_pred2)\n",
        "print(conf2)\n",
        "print('The performnace measurement of the KNN classifier:\\n ',classification_report(y_test,y_pred2,target_names = ['No','Yes']))\n",
        "\n",
        "from sklearn.svm import SVC\n",
        "classifier = SVC(kernel = 'linear', random_state = 0)\n",
        "classifier.fit(X_train,y_train)\n",
        "y_pred3 = classifier.predict(X_test)\n",
        "conf3=confusion_matrix(y_test,y_pred3)\n",
        "print(conf3)\n",
        "print('The performnace measurement of the SVC classifier:\\n ',classification_report(y_test,y_pred3,target_names = ['No','Yes']))\n",
        "\n",
        "from sklearn.tree import DecisionTreeClassifier\n",
        "classifier = DecisionTreeClassifier(criterion = 'entropy', random_state = 0)\n",
        "classifier.fit(X_train,y_train)\n",
        "y_pred4 = classifier.predict(X_test)\n",
        "conf4=confusion_matrix(y_test,y_pred4)\n",
        "print(conf4)\n",
        "print('The performnace measurement of the Decision Tree classifier:\\n ',classification_report(y_test,y_pred4,target_names = ['No','Yes']))\n",
        "\n",
        "from sklearn.ensemble import RandomForestClassifier\n",
        "classifier = RandomForestClassifier(n_estimators=12, criterion ='entropy', random_state = 2)\n",
        "classifier.fit(X_train,y_train)\n",
        "y_pred5 = classifier.predict(X_test)\n",
        "conf5=confusion_matrix(y_test,y_pred5)\n",
        "print(conf5)\n",
        "print('The performnace measurement of the RF classifier:\\n ',classification_report(y_test,y_pred5,target_names = ['No','Yes']))\n",
        "\n",
        "from sklearn.naive_bayes import GaussianNB\n",
        "classifier = GaussianNB()\n",
        "classifier.fit(X_train,y_train)\n",
        "y_pred6 = classifier.predict(X_test)\n",
        "conf6=confusion_matrix(y_test,y_pred6)\n",
        "print(conf6)\n",
        "print('The performnace measurement of the Naive bayes classifier:\\n ',classification_report(y_test,y_pred6,target_names = ['No','Yes']))"
      ],
      "metadata": {
        "colab": {
          "base_uri": "https://localhost:8080/"
        },
        "id": "fzUGoAi1vPpS",
        "outputId": "e389f01a-ff81-462c-c6a6-54161b7a7394"
      },
      "execution_count": null,
      "outputs": [
        {
          "output_type": "stream",
          "name": "stdout",
          "text": [
            "The shape of train set (614, 8)\n",
            "The shape of test set (154, 8)\n",
            "[[98  9]\n",
            " [18 29]]\n",
            "The performnace measurement of the logistic regression: \n",
            "                precision    recall  f1-score   support\n",
            "\n",
            "          No       0.84      0.92      0.88       107\n",
            "         Yes       0.76      0.62      0.68        47\n",
            "\n",
            "    accuracy                           0.82       154\n",
            "   macro avg       0.80      0.77      0.78       154\n",
            "weighted avg       0.82      0.82      0.82       154\n",
            "\n",
            "[[88 19]\n",
            " [21 26]]\n",
            "The performnace measurement of the KNN classifier:\n",
            "                precision    recall  f1-score   support\n",
            "\n",
            "          No       0.81      0.82      0.81       107\n",
            "         Yes       0.58      0.55      0.57        47\n",
            "\n",
            "    accuracy                           0.74       154\n",
            "   macro avg       0.69      0.69      0.69       154\n",
            "weighted avg       0.74      0.74      0.74       154\n",
            "\n",
            "[[98  9]\n",
            " [18 29]]\n",
            "The performnace measurement of the SVC classifier:\n",
            "                precision    recall  f1-score   support\n",
            "\n",
            "          No       0.84      0.92      0.88       107\n",
            "         Yes       0.76      0.62      0.68        47\n",
            "\n",
            "    accuracy                           0.82       154\n",
            "   macro avg       0.80      0.77      0.78       154\n",
            "weighted avg       0.82      0.82      0.82       154\n",
            "\n",
            "[[79 28]\n",
            " [17 30]]\n",
            "The performnace measurement of the Decision Tree classifier:\n",
            "                precision    recall  f1-score   support\n",
            "\n",
            "          No       0.82      0.74      0.78       107\n",
            "         Yes       0.52      0.64      0.57        47\n",
            "\n",
            "    accuracy                           0.71       154\n",
            "   macro avg       0.67      0.69      0.67       154\n",
            "weighted avg       0.73      0.71      0.72       154\n",
            "\n",
            "[[91 16]\n",
            " [21 26]]\n",
            "The performnace measurement of the RF classifier:\n",
            "                precision    recall  f1-score   support\n",
            "\n",
            "          No       0.81      0.85      0.83       107\n",
            "         Yes       0.62      0.55      0.58        47\n",
            "\n",
            "    accuracy                           0.76       154\n",
            "   macro avg       0.72      0.70      0.71       154\n",
            "weighted avg       0.75      0.76      0.76       154\n",
            "\n",
            "[[93 14]\n",
            " [18 29]]\n",
            "The performnace measurement of the Naive bayes classifier:\n",
            "                precision    recall  f1-score   support\n",
            "\n",
            "          No       0.84      0.87      0.85       107\n",
            "         Yes       0.67      0.62      0.64        47\n",
            "\n",
            "    accuracy                           0.79       154\n",
            "   macro avg       0.76      0.74      0.75       154\n",
            "weighted avg       0.79      0.79      0.79       154\n",
            "\n"
          ]
        }
      ]
    },
    {
      "cell_type": "markdown",
      "source": [
        "**Importing Library for Neural Network**"
      ],
      "metadata": {
        "id": "J6GcIo6Kf4mx"
      }
    },
    {
      "cell_type": "code",
      "source": [
        "import tensorflow as tf\n",
        "from tensorflow.keras import Sequential\n",
        "from tensorflow.keras.layers import Dense"
      ],
      "metadata": {
        "id": "t2WoCsvjvhRq"
      },
      "execution_count": null,
      "outputs": []
    },
    {
      "cell_type": "markdown",
      "source": [
        "**Building the NN Model**"
      ],
      "metadata": {
        "id": "yeJ0RbqBf9x4"
      }
    },
    {
      "cell_type": "code",
      "source": [
        "model = Sequential()\n",
        "model.add(Dense(20, input_dim=8, activation='relu'))\n",
        "model.add(Dense(18, activation='relu'))\n",
        "model.add(Dense(15, activation='tanh'))\n",
        "model.add(Dense(10, activation='relu'))\n",
        "model.add(Dense(8, activation='relu'))\n",
        "model.add(Dense(1, activation='sigmoid'))\n",
        "model.summary()"
      ],
      "metadata": {
        "colab": {
          "base_uri": "https://localhost:8080/"
        },
        "id": "fD8EU6Jyvilz",
        "outputId": "2a457627-7b19-4c7e-b7fc-ed0bb5ccb0ab"
      },
      "execution_count": null,
      "outputs": [
        {
          "output_type": "stream",
          "name": "stdout",
          "text": [
            "Model: \"sequential_13\"\n",
            "_________________________________________________________________\n",
            " Layer (type)                Output Shape              Param #   \n",
            "=================================================================\n",
            " dense_54 (Dense)            (None, 20)                180       \n",
            "                                                                 \n",
            " dense_55 (Dense)            (None, 18)                378       \n",
            "                                                                 \n",
            " dense_56 (Dense)            (None, 15)                285       \n",
            "                                                                 \n",
            " dense_57 (Dense)            (None, 10)                160       \n",
            "                                                                 \n",
            " dense_58 (Dense)            (None, 8)                 88        \n",
            "                                                                 \n",
            " dense_59 (Dense)            (None, 1)                 9         \n",
            "                                                                 \n",
            "=================================================================\n",
            "Total params: 1,100\n",
            "Trainable params: 1,100\n",
            "Non-trainable params: 0\n",
            "_________________________________________________________________\n"
          ]
        }
      ]
    },
    {
      "cell_type": "markdown",
      "source": [
        "**Train-Test Split and Feature Scaling**"
      ],
      "metadata": {
        "id": "HyR__Py9bn3D"
      }
    },
    {
      "cell_type": "code",
      "source": [
        "X_train,X_test,y_train,y_test=train_test_split(features,target,test_size = 0.20,random_state = 0)\n",
        "X_sc = StandardScaler()\n",
        "X_train = X_sc.fit_transform(X_train)\n",
        "X_test = X_sc.transform(X_test)"
      ],
      "metadata": {
        "id": "VcYZ7NFFPsI-"
      },
      "execution_count": null,
      "outputs": []
    },
    {
      "cell_type": "markdown",
      "source": [
        "**Compiling the model ('Adam' optimizer, epoch=20)**"
      ],
      "metadata": {
        "id": "FxrfU5vugBXi"
      }
    },
    {
      "cell_type": "code",
      "source": [
        "model.compile(loss='binary_crossentropy', optimizer='adam', metrics=['accuracy'])\n",
        "#Training the neural network on the train dataset\n",
        "history3 = model.fit(X_train, y_train, epochs=20, validation_split=0.08)"
      ],
      "metadata": {
        "colab": {
          "base_uri": "https://localhost:8080/"
        },
        "id": "fFcdwl62v-Pa",
        "outputId": "cd3cdaea-5529-48f7-e009-3dd7aa8ac081"
      },
      "execution_count": null,
      "outputs": [
        {
          "output_type": "stream",
          "name": "stdout",
          "text": [
            "Epoch 1/20\n",
            "18/18 [==============================] - 1s 16ms/step - loss: 0.0066 - accuracy: 0.9982 - val_loss: 4.5087 - val_accuracy: 0.6800\n",
            "Epoch 2/20\n",
            "18/18 [==============================] - 0s 6ms/step - loss: 0.0025 - accuracy: 1.0000 - val_loss: 4.3697 - val_accuracy: 0.7000\n",
            "Epoch 3/20\n",
            "18/18 [==============================] - 0s 7ms/step - loss: 0.0216 - accuracy: 0.9947 - val_loss: 4.3031 - val_accuracy: 0.6800\n",
            "Epoch 4/20\n",
            "18/18 [==============================] - 0s 6ms/step - loss: 0.0222 - accuracy: 0.9965 - val_loss: 4.5077 - val_accuracy: 0.7000\n",
            "Epoch 5/20\n",
            "18/18 [==============================] - 0s 6ms/step - loss: 0.0260 - accuracy: 0.9911 - val_loss: 4.3698 - val_accuracy: 0.7000\n",
            "Epoch 6/20\n",
            "18/18 [==============================] - 0s 6ms/step - loss: 0.0136 - accuracy: 0.9929 - val_loss: 4.4116 - val_accuracy: 0.6800\n",
            "Epoch 7/20\n",
            "18/18 [==============================] - 0s 6ms/step - loss: 0.0258 - accuracy: 0.9929 - val_loss: 4.8956 - val_accuracy: 0.6600\n",
            "Epoch 8/20\n",
            "18/18 [==============================] - 0s 6ms/step - loss: 0.0265 - accuracy: 0.9876 - val_loss: 3.9854 - val_accuracy: 0.7000\n",
            "Epoch 9/20\n",
            "18/18 [==============================] - 0s 7ms/step - loss: 0.0192 - accuracy: 0.9911 - val_loss: 5.0878 - val_accuracy: 0.6600\n",
            "Epoch 10/20\n",
            "18/18 [==============================] - 0s 6ms/step - loss: 0.0184 - accuracy: 0.9894 - val_loss: 4.5114 - val_accuracy: 0.6800\n",
            "Epoch 11/20\n",
            "18/18 [==============================] - 0s 6ms/step - loss: 0.0175 - accuracy: 0.9947 - val_loss: 5.1262 - val_accuracy: 0.7000\n",
            "Epoch 12/20\n",
            "18/18 [==============================] - 0s 7ms/step - loss: 0.0100 - accuracy: 0.9929 - val_loss: 4.0416 - val_accuracy: 0.7200\n",
            "Epoch 13/20\n",
            "18/18 [==============================] - 0s 6ms/step - loss: 0.0187 - accuracy: 0.9894 - val_loss: 4.4322 - val_accuracy: 0.6800\n",
            "Epoch 14/20\n",
            "18/18 [==============================] - 0s 6ms/step - loss: 0.0181 - accuracy: 0.9947 - val_loss: 4.4314 - val_accuracy: 0.7000\n",
            "Epoch 15/20\n",
            "18/18 [==============================] - 0s 6ms/step - loss: 0.0089 - accuracy: 0.9965 - val_loss: 4.3242 - val_accuracy: 0.6800\n",
            "Epoch 16/20\n",
            "18/18 [==============================] - 0s 6ms/step - loss: 0.0028 - accuracy: 0.9982 - val_loss: 4.3786 - val_accuracy: 0.7000\n",
            "Epoch 17/20\n",
            "18/18 [==============================] - 0s 6ms/step - loss: 0.0016 - accuracy: 1.0000 - val_loss: 4.4270 - val_accuracy: 0.6800\n",
            "Epoch 18/20\n",
            "18/18 [==============================] - 0s 6ms/step - loss: 0.0010 - accuracy: 1.0000 - val_loss: 4.4212 - val_accuracy: 0.7000\n",
            "Epoch 19/20\n",
            "18/18 [==============================] - 0s 6ms/step - loss: 7.9774e-04 - accuracy: 1.0000 - val_loss: 4.3842 - val_accuracy: 0.7000\n",
            "Epoch 20/20\n",
            "18/18 [==============================] - 0s 6ms/step - loss: 7.2118e-04 - accuracy: 1.0000 - val_loss: 4.3644 - val_accuracy: 0.7000\n"
          ]
        }
      ]
    },
    {
      "cell_type": "markdown",
      "source": [
        "**Plotting the loss and validation loss of the dataset**"
      ],
      "metadata": {
        "id": "n2c9QtFjgH4g"
      }
    },
    {
      "cell_type": "code",
      "source": [
        "history_df = pd.DataFrame(history3.history)\n",
        "plt.plot(history_df['loss'], label='loss')\n",
        "plt.plot(history_df['val_loss'], label='val_loss')\n",
        "plt.legend()"
      ],
      "metadata": {
        "colab": {
          "base_uri": "https://localhost:8080/",
          "height": 282
        },
        "id": "Q9W2uBU7wLSK",
        "outputId": "c1f94793-bf02-4300-e23a-d17bdee47276"
      },
      "execution_count": null,
      "outputs": [
        {
          "output_type": "execute_result",
          "data": {
            "text/plain": [
              "<matplotlib.legend.Legend at 0x7fbf1813c290>"
            ]
          },
          "metadata": {},
          "execution_count": 106
        },
        {
          "output_type": "display_data",
          "data": {
            "image/png": "[encoded data removed]",
            "text/plain": [
              "<Figure size 432x288 with 1 Axes>"
            ]
          },
          "metadata": {
            "needs_background": "light"
          }
        }
      ]
    },
    {
      "cell_type": "markdown",
      "source": [
        "**Plotting the accuracy and validation accuracy of the dataset**"
      ],
      "metadata": {
        "id": "jJr_mtZtgPKX"
      }
    },
    {
      "cell_type": "code",
      "source": [
        "plt.plot(history_df['accuracy'], label='acc')\n",
        "plt.plot(history_df['val_accuracy'], label='val_acc')\n",
        "plt.legend()"
      ],
      "metadata": {
        "colab": {
          "base_uri": "https://localhost:8080/",
          "height": 282
        },
        "id": "lzrnpiJ3wQU6",
        "outputId": "0bbd7fbd-c411-4888-9b4d-c6ed24b3a86c"
      },
      "execution_count": null,
      "outputs": [
        {
          "output_type": "execute_result",
          "data": {
            "text/plain": [
              "<matplotlib.legend.Legend at 0x7fbf18080c10>"
            ]
          },
          "metadata": {},
          "execution_count": 108
        },
        {
          "output_type": "display_data",
          "data": {
            "image/png": "[encoded data removed]",
            "text/plain": [
              "<Figure size 432x288 with 1 Axes>"
            ]
          },
          "metadata": {
            "needs_background": "light"
          }
        }
      ]
    },
    {
      "cell_type": "markdown",
      "source": [
        "**Prediction on the test dataset using the developed NN model (adam)**"
      ],
      "metadata": {
        "id": "QkvavXTXgUb5"
      }
    },
    {
      "cell_type": "code",
      "source": [
        "#Prediction\n",
        "from sklearn.metrics import accuracy_score\n",
        "y_pred = model.predict(X_test)\n",
        "y_pred = y_pred > 0.5\n",
        "print(classification_report(y_test,y_pred))"
      ],
      "metadata": {
        "colab": {
          "base_uri": "https://localhost:8080/"
        },
        "id": "0xVZTpwTwYua",
        "outputId": "6b14217d-91af-46bc-8f17-8966861c16c2"
      },
      "execution_count": null,
      "outputs": [
        {
          "output_type": "stream",
          "name": "stdout",
          "text": [
            "              precision    recall  f1-score   support\n",
            "\n",
            "           0       0.83      0.80      0.82       107\n",
            "           1       0.58      0.62      0.60        47\n",
            "\n",
            "    accuracy                           0.75       154\n",
            "   macro avg       0.70      0.71      0.71       154\n",
            "weighted avg       0.75      0.75      0.75       154\n",
            "\n"
          ]
        }
      ]
    },
    {
      "cell_type": "markdown",
      "source": [
        "**Compiling the model ('Adadelta' optimizer, epoch=30)**"
      ],
      "metadata": {
        "id": "sVWfK2AxE9mH"
      }
    },
    {
      "cell_type": "code",
      "source": [
        "model.compile(loss='binary_crossentropy', optimizer='adadelta', metrics=['accuracy'])\n",
        "#Training the neural network on the train dataset\n",
        "history1 = model.fit(X_train, y_train, epochs=30, validation_split=0.15)"
      ],
      "metadata": {
        "colab": {
          "base_uri": "https://localhost:8080/"
        },
        "id": "1OGA037Q_S5w",
        "outputId": "bd28dc77-c1ba-49d0-e7f1-b52d3e8ad337"
      },
      "execution_count": null,
      "outputs": [
        {
          "output_type": "stream",
          "name": "stdout",
          "text": [
            "Epoch 1/30\n",
            "17/17 [==============================] - 1s 16ms/step - loss: 0.3338 - accuracy: 0.8618 - val_loss: 0.5422 - val_accuracy: 0.7742\n",
            "Epoch 2/30\n",
            "17/17 [==============================] - 0s 6ms/step - loss: 0.3338 - accuracy: 0.8618 - val_loss: 0.5422 - val_accuracy: 0.7742\n",
            "Epoch 3/30\n",
            "17/17 [==============================] - 0s 6ms/step - loss: 0.3338 - accuracy: 0.8618 - val_loss: 0.5422 - val_accuracy: 0.7742\n",
            "Epoch 4/30\n",
            "17/17 [==============================] - 0s 6ms/step - loss: 0.3338 - accuracy: 0.8618 - val_loss: 0.5423 - val_accuracy: 0.7742\n",
            "Epoch 5/30\n",
            "17/17 [==============================] - 0s 6ms/step - loss: 0.3338 - accuracy: 0.8618 - val_loss: 0.5423 - val_accuracy: 0.7742\n",
            "Epoch 6/30\n",
            "17/17 [==============================] - 0s 6ms/step - loss: 0.3338 - accuracy: 0.8618 - val_loss: 0.5423 - val_accuracy: 0.7742\n",
            "Epoch 7/30\n",
            "17/17 [==============================] - 0s 7ms/step - loss: 0.3338 - accuracy: 0.8618 - val_loss: 0.5424 - val_accuracy: 0.7742\n",
            "Epoch 8/30\n",
            "17/17 [==============================] - 0s 6ms/step - loss: 0.3338 - accuracy: 0.8618 - val_loss: 0.5424 - val_accuracy: 0.7742\n",
            "Epoch 9/30\n",
            "17/17 [==============================] - 0s 6ms/step - loss: 0.3338 - accuracy: 0.8599 - val_loss: 0.5424 - val_accuracy: 0.7742\n",
            "Epoch 10/30\n",
            "17/17 [==============================] - 0s 6ms/step - loss: 0.3337 - accuracy: 0.8599 - val_loss: 0.5425 - val_accuracy: 0.7742\n",
            "Epoch 11/30\n",
            "17/17 [==============================] - 0s 6ms/step - loss: 0.3337 - accuracy: 0.8599 - val_loss: 0.5425 - val_accuracy: 0.7742\n",
            "Epoch 12/30\n",
            "17/17 [==============================] - 0s 6ms/step - loss: 0.3337 - accuracy: 0.8599 - val_loss: 0.5425 - val_accuracy: 0.7742\n",
            "Epoch 13/30\n",
            "17/17 [==============================] - 0s 6ms/step - loss: 0.3337 - accuracy: 0.8599 - val_loss: 0.5426 - val_accuracy: 0.7742\n",
            "Epoch 14/30\n",
            "17/17 [==============================] - 0s 7ms/step - loss: 0.3337 - accuracy: 0.8599 - val_loss: 0.5426 - val_accuracy: 0.7742\n",
            "Epoch 15/30\n",
            "17/17 [==============================] - 0s 6ms/step - loss: 0.3337 - accuracy: 0.8599 - val_loss: 0.5426 - val_accuracy: 0.7742\n",
            "Epoch 16/30\n",
            "17/17 [==============================] - 0s 6ms/step - loss: 0.3337 - accuracy: 0.8599 - val_loss: 0.5426 - val_accuracy: 0.7742\n",
            "Epoch 17/30\n",
            "17/17 [==============================] - 0s 6ms/step - loss: 0.3337 - accuracy: 0.8599 - val_loss: 0.5427 - val_accuracy: 0.7742\n",
            "Epoch 18/30\n",
            "17/17 [==============================] - 0s 6ms/step - loss: 0.3337 - accuracy: 0.8599 - val_loss: 0.5427 - val_accuracy: 0.7742\n",
            "Epoch 19/30\n",
            "17/17 [==============================] - 0s 7ms/step - loss: 0.3337 - accuracy: 0.8599 - val_loss: 0.5427 - val_accuracy: 0.7742\n",
            "Epoch 20/30\n",
            "17/17 [==============================] - 0s 6ms/step - loss: 0.3337 - accuracy: 0.8599 - val_loss: 0.5427 - val_accuracy: 0.7742\n",
            "Epoch 21/30\n",
            "17/17 [==============================] - 0s 7ms/step - loss: 0.3337 - accuracy: 0.8599 - val_loss: 0.5428 - val_accuracy: 0.7742\n",
            "Epoch 22/30\n",
            "17/17 [==============================] - 0s 6ms/step - loss: 0.3336 - accuracy: 0.8599 - val_loss: 0.5428 - val_accuracy: 0.7742\n",
            "Epoch 23/30\n",
            "17/17 [==============================] - 0s 6ms/step - loss: 0.3336 - accuracy: 0.8599 - val_loss: 0.5428 - val_accuracy: 0.7742\n",
            "Epoch 24/30\n",
            "17/17 [==============================] - 0s 6ms/step - loss: 0.3336 - accuracy: 0.8599 - val_loss: 0.5429 - val_accuracy: 0.7742\n",
            "Epoch 25/30\n",
            "17/17 [==============================] - 0s 7ms/step - loss: 0.3336 - accuracy: 0.8599 - val_loss: 0.5429 - val_accuracy: 0.7742\n",
            "Epoch 26/30\n",
            "17/17 [==============================] - 0s 6ms/step - loss: 0.3336 - accuracy: 0.8599 - val_loss: 0.5429 - val_accuracy: 0.7742\n",
            "Epoch 27/30\n",
            "17/17 [==============================] - 0s 6ms/step - loss: 0.3336 - accuracy: 0.8599 - val_loss: 0.5429 - val_accuracy: 0.7742\n",
            "Epoch 28/30\n",
            "17/17 [==============================] - 0s 6ms/step - loss: 0.3336 - accuracy: 0.8599 - val_loss: 0.5430 - val_accuracy: 0.7742\n",
            "Epoch 29/30\n",
            "17/17 [==============================] - 0s 7ms/step - loss: 0.3336 - accuracy: 0.8599 - val_loss: 0.5430 - val_accuracy: 0.7742\n",
            "Epoch 30/30\n",
            "17/17 [==============================] - 0s 6ms/step - loss: 0.3336 - accuracy: 0.8599 - val_loss: 0.5430 - val_accuracy: 0.7742\n"
          ]
        }
      ]
    },
    {
      "cell_type": "markdown",
      "source": [
        "**Plotting the loss and accuracy of training and validation( adadelta optimizer)**"
      ],
      "metadata": {
        "id": "BODzv2AFFRpt"
      }
    },
    {
      "cell_type": "code",
      "source": [
        "history1_df = pd.DataFrame(history1.history)\n",
        "plt.plot(history1_df['loss'], label='loss')\n",
        "plt.plot(history1_df['val_loss'], label='val_loss')\n",
        "plt.legend()\n",
        "plt.plot(history1_df['accuracy'], label='acc')\n",
        "plt.plot(history1_df['val_accuracy'], label='val_acc')\n",
        "plt.legend()"
      ],
      "metadata": {
        "colab": {
          "base_uri": "https://localhost:8080/",
          "height": 282
        },
        "id": "jQLuCg6g_jM9",
        "outputId": "47e5ccc4-7ebd-4bb6-f4e4-f8e61e732c20"
      },
      "execution_count": null,
      "outputs": [
        {
          "output_type": "execute_result",
          "data": {
            "text/plain": [
              "<matplotlib.legend.Legend at 0x7fbfa036df90>"
            ]
          },
          "metadata": {},
          "execution_count": 33
        },
        {
          "output_type": "display_data",
          "data": {
            "image/png": "[encoded data removed]",
            "text/plain": [
              "<Figure size 432x288 with 1 Axes>"
            ]
          },
          "metadata": {
            "needs_background": "light"
          }
        }
      ]
    },
    {
      "cell_type": "markdown",
      "source": [
        "**Prediction on the test dataset using the developed NN model (adadelta)**"
      ],
      "metadata": {
        "id": "KQaWQFO3F952"
      }
    },
    {
      "cell_type": "code",
      "source": [
        "from sklearn.metrics import accuracy_score\n",
        "y_pred1 = model.predict(X_test)\n",
        "y_pred1 = y_pred1 > 0.5\n",
        "print(classification_report(y_test,y_pred1))"
      ],
      "metadata": {
        "colab": {
          "base_uri": "https://localhost:8080/"
        },
        "id": "LmHRVSaZAAJD",
        "outputId": "1bfe3656-6811-4618-a9db-73fc34c5dcf2"
      },
      "execution_count": null,
      "outputs": [
        {
          "output_type": "stream",
          "name": "stdout",
          "text": [
            "              precision    recall  f1-score   support\n",
            "\n",
            "           0       0.84      0.86      0.85       107\n",
            "           1       0.66      0.62      0.64        47\n",
            "\n",
            "    accuracy                           0.79       154\n",
            "   macro avg       0.75      0.74      0.74       154\n",
            "weighted avg       0.78      0.79      0.78       154\n",
            "\n"
          ]
        }
      ]
    },
    {
      "cell_type": "markdown",
      "source": [
        "**Compiling the model ('Rmsprop' optimizer, epoch=70)**"
      ],
      "metadata": {
        "id": "9UZRQlUMFKEG"
      }
    },
    {
      "cell_type": "code",
      "source": [
        "model.compile(loss='binary_crossentropy', optimizer='rmsprop', metrics=['accuracy'])\n",
        "#Training the neural network on the train dataset\n",
        "history2 = model.fit(X_train, y_train, epochs=70, validation_split=0.12)"
      ],
      "metadata": {
        "colab": {
          "base_uri": "https://localhost:8080/"
        },
        "id": "Qz_NynvqAfKW",
        "outputId": "cf1cb609-43f3-4684-8c8f-660697cb6e24"
      },
      "execution_count": null,
      "outputs": [
        {
          "output_type": "stream",
          "name": "stdout",
          "text": [
            "Epoch 1/70\n",
            "17/17 [==============================] - 1s 18ms/step - loss: 0.3474 - accuracy: 0.8463 - val_loss: 0.5681 - val_accuracy: 0.7838\n",
            "Epoch 2/70\n",
            "17/17 [==============================] - 0s 6ms/step - loss: 0.3432 - accuracy: 0.8481 - val_loss: 0.5744 - val_accuracy: 0.7838\n",
            "Epoch 3/70\n",
            "17/17 [==============================] - 0s 6ms/step - loss: 0.3402 - accuracy: 0.8481 - val_loss: 0.5643 - val_accuracy: 0.7838\n",
            "Epoch 4/70\n",
            "17/17 [==============================] - 0s 6ms/step - loss: 0.3411 - accuracy: 0.8537 - val_loss: 0.5755 - val_accuracy: 0.7703\n",
            "Epoch 5/70\n",
            "17/17 [==============================] - 0s 7ms/step - loss: 0.3378 - accuracy: 0.8519 - val_loss: 0.5867 - val_accuracy: 0.7703\n",
            "Epoch 6/70\n",
            "17/17 [==============================] - 0s 6ms/step - loss: 0.3376 - accuracy: 0.8500 - val_loss: 0.5833 - val_accuracy: 0.7703\n",
            "Epoch 7/70\n",
            "17/17 [==============================] - 0s 7ms/step - loss: 0.3362 - accuracy: 0.8556 - val_loss: 0.5860 - val_accuracy: 0.7838\n",
            "Epoch 8/70\n",
            "17/17 [==============================] - 0s 7ms/step - loss: 0.3363 - accuracy: 0.8593 - val_loss: 0.5988 - val_accuracy: 0.7703\n",
            "Epoch 9/70\n",
            "17/17 [==============================] - 0s 7ms/step - loss: 0.3344 - accuracy: 0.8537 - val_loss: 0.5933 - val_accuracy: 0.7703\n",
            "Epoch 10/70\n",
            "17/17 [==============================] - 0s 6ms/step - loss: 0.3334 - accuracy: 0.8556 - val_loss: 0.5897 - val_accuracy: 0.7838\n",
            "Epoch 11/70\n",
            "17/17 [==============================] - 0s 6ms/step - loss: 0.3323 - accuracy: 0.8593 - val_loss: 0.5981 - val_accuracy: 0.7703\n",
            "Epoch 12/70\n",
            "17/17 [==============================] - 0s 7ms/step - loss: 0.3309 - accuracy: 0.8593 - val_loss: 0.5932 - val_accuracy: 0.7838\n",
            "Epoch 13/70\n",
            "17/17 [==============================] - 0s 7ms/step - loss: 0.3314 - accuracy: 0.8593 - val_loss: 0.5978 - val_accuracy: 0.7838\n",
            "Epoch 14/70\n",
            "17/17 [==============================] - 0s 6ms/step - loss: 0.3281 - accuracy: 0.8611 - val_loss: 0.6051 - val_accuracy: 0.7838\n",
            "Epoch 15/70\n",
            "17/17 [==============================] - 0s 6ms/step - loss: 0.3276 - accuracy: 0.8611 - val_loss: 0.6106 - val_accuracy: 0.7838\n",
            "Epoch 16/70\n",
            "17/17 [==============================] - 0s 6ms/step - loss: 0.3283 - accuracy: 0.8574 - val_loss: 0.6035 - val_accuracy: 0.7838\n",
            "Epoch 17/70\n",
            "17/17 [==============================] - 0s 8ms/step - loss: 0.3253 - accuracy: 0.8667 - val_loss: 0.6098 - val_accuracy: 0.7838\n",
            "Epoch 18/70\n",
            "17/17 [==============================] - 0s 6ms/step - loss: 0.3259 - accuracy: 0.8574 - val_loss: 0.6081 - val_accuracy: 0.7703\n",
            "Epoch 19/70\n",
            "17/17 [==============================] - 0s 6ms/step - loss: 0.3246 - accuracy: 0.8630 - val_loss: 0.6070 - val_accuracy: 0.7838\n",
            "Epoch 20/70\n",
            "17/17 [==============================] - 0s 7ms/step - loss: 0.3233 - accuracy: 0.8685 - val_loss: 0.6130 - val_accuracy: 0.7838\n",
            "Epoch 21/70\n",
            "17/17 [==============================] - 0s 6ms/step - loss: 0.3233 - accuracy: 0.8667 - val_loss: 0.6211 - val_accuracy: 0.7838\n",
            "Epoch 22/70\n",
            "17/17 [==============================] - 0s 7ms/step - loss: 0.3212 - accuracy: 0.8611 - val_loss: 0.6169 - val_accuracy: 0.7838\n",
            "Epoch 23/70\n",
            "17/17 [==============================] - 0s 6ms/step - loss: 0.3200 - accuracy: 0.8648 - val_loss: 0.6143 - val_accuracy: 0.7838\n",
            "Epoch 24/70\n",
            "17/17 [==============================] - 0s 6ms/step - loss: 0.3210 - accuracy: 0.8667 - val_loss: 0.6248 - val_accuracy: 0.7703\n",
            "Epoch 25/70\n",
            "17/17 [==============================] - 0s 6ms/step - loss: 0.3188 - accuracy: 0.8685 - val_loss: 0.6297 - val_accuracy: 0.7703\n",
            "Epoch 26/70\n",
            "17/17 [==============================] - 0s 6ms/step - loss: 0.3183 - accuracy: 0.8630 - val_loss: 0.6314 - val_accuracy: 0.7703\n",
            "Epoch 27/70\n",
            "17/17 [==============================] - 0s 7ms/step - loss: 0.3172 - accuracy: 0.8667 - val_loss: 0.6417 - val_accuracy: 0.7838\n",
            "Epoch 28/70\n",
            "17/17 [==============================] - 0s 6ms/step - loss: 0.3166 - accuracy: 0.8667 - val_loss: 0.6390 - val_accuracy: 0.7703\n",
            "Epoch 29/70\n",
            "17/17 [==============================] - 0s 6ms/step - loss: 0.3160 - accuracy: 0.8630 - val_loss: 0.6455 - val_accuracy: 0.7703\n",
            "Epoch 30/70\n",
            "17/17 [==============================] - 0s 6ms/step - loss: 0.3135 - accuracy: 0.8648 - val_loss: 0.6357 - val_accuracy: 0.7703\n",
            "Epoch 31/70\n",
            "17/17 [==============================] - 0s 7ms/step - loss: 0.3136 - accuracy: 0.8667 - val_loss: 0.6301 - val_accuracy: 0.7703\n",
            "Epoch 32/70\n",
            "17/17 [==============================] - 0s 7ms/step - loss: 0.3129 - accuracy: 0.8667 - val_loss: 0.6387 - val_accuracy: 0.7703\n",
            "Epoch 33/70\n",
            "17/17 [==============================] - 0s 6ms/step - loss: 0.3127 - accuracy: 0.8685 - val_loss: 0.6377 - val_accuracy: 0.7703\n",
            "Epoch 34/70\n",
            "17/17 [==============================] - 0s 7ms/step - loss: 0.3099 - accuracy: 0.8685 - val_loss: 0.6434 - val_accuracy: 0.7838\n",
            "Epoch 35/70\n",
            "17/17 [==============================] - 0s 6ms/step - loss: 0.3090 - accuracy: 0.8759 - val_loss: 0.6400 - val_accuracy: 0.7838\n",
            "Epoch 36/70\n",
            "17/17 [==============================] - 0s 6ms/step - loss: 0.3100 - accuracy: 0.8778 - val_loss: 0.6464 - val_accuracy: 0.7838\n",
            "Epoch 37/70\n",
            "17/17 [==============================] - 0s 6ms/step - loss: 0.3083 - accuracy: 0.8685 - val_loss: 0.6629 - val_accuracy: 0.7568\n",
            "Epoch 38/70\n",
            "17/17 [==============================] - 0s 6ms/step - loss: 0.3075 - accuracy: 0.8704 - val_loss: 0.6498 - val_accuracy: 0.7703\n",
            "Epoch 39/70\n",
            "17/17 [==============================] - 0s 7ms/step - loss: 0.3066 - accuracy: 0.8778 - val_loss: 0.6591 - val_accuracy: 0.7703\n",
            "Epoch 40/70\n",
            "17/17 [==============================] - 0s 6ms/step - loss: 0.3055 - accuracy: 0.8796 - val_loss: 0.6600 - val_accuracy: 0.7703\n",
            "Epoch 41/70\n",
            "17/17 [==============================] - 0s 7ms/step - loss: 0.3050 - accuracy: 0.8704 - val_loss: 0.6605 - val_accuracy: 0.7703\n",
            "Epoch 42/70\n",
            "17/17 [==============================] - 0s 6ms/step - loss: 0.3054 - accuracy: 0.8722 - val_loss: 0.6671 - val_accuracy: 0.7703\n",
            "Epoch 43/70\n",
            "17/17 [==============================] - 0s 7ms/step - loss: 0.3029 - accuracy: 0.8685 - val_loss: 0.6658 - val_accuracy: 0.7838\n",
            "Epoch 44/70\n",
            "17/17 [==============================] - 0s 6ms/step - loss: 0.3018 - accuracy: 0.8722 - val_loss: 0.6739 - val_accuracy: 0.7703\n",
            "Epoch 45/70\n",
            "17/17 [==============================] - 0s 6ms/step - loss: 0.3021 - accuracy: 0.8722 - val_loss: 0.6707 - val_accuracy: 0.7703\n",
            "Epoch 46/70\n",
            "17/17 [==============================] - 0s 7ms/step - loss: 0.2994 - accuracy: 0.8741 - val_loss: 0.6709 - val_accuracy: 0.7703\n",
            "Epoch 47/70\n",
            "17/17 [==============================] - 0s 6ms/step - loss: 0.2999 - accuracy: 0.8741 - val_loss: 0.6596 - val_accuracy: 0.7838\n",
            "Epoch 48/70\n",
            "17/17 [==============================] - 0s 6ms/step - loss: 0.2975 - accuracy: 0.8778 - val_loss: 0.6795 - val_accuracy: 0.7703\n",
            "Epoch 49/70\n",
            "17/17 [==============================] - 0s 7ms/step - loss: 0.2976 - accuracy: 0.8722 - val_loss: 0.6702 - val_accuracy: 0.7838\n",
            "Epoch 50/70\n",
            "17/17 [==============================] - 0s 7ms/step - loss: 0.2971 - accuracy: 0.8759 - val_loss: 0.6825 - val_accuracy: 0.7703\n",
            "Epoch 51/70\n",
            "17/17 [==============================] - 0s 7ms/step - loss: 0.2956 - accuracy: 0.8759 - val_loss: 0.6864 - val_accuracy: 0.7703\n",
            "Epoch 52/70\n",
            "17/17 [==============================] - 0s 6ms/step - loss: 0.2953 - accuracy: 0.8796 - val_loss: 0.6900 - val_accuracy: 0.7703\n",
            "Epoch 53/70\n",
            "17/17 [==============================] - 0s 6ms/step - loss: 0.2939 - accuracy: 0.8759 - val_loss: 0.6797 - val_accuracy: 0.7838\n",
            "Epoch 54/70\n",
            "17/17 [==============================] - 0s 7ms/step - loss: 0.2916 - accuracy: 0.8759 - val_loss: 0.6877 - val_accuracy: 0.7703\n",
            "Epoch 55/70\n",
            "17/17 [==============================] - 0s 7ms/step - loss: 0.2926 - accuracy: 0.8778 - val_loss: 0.6847 - val_accuracy: 0.7838\n",
            "Epoch 56/70\n",
            "17/17 [==============================] - 0s 7ms/step - loss: 0.2910 - accuracy: 0.8815 - val_loss: 0.6781 - val_accuracy: 0.7703\n",
            "Epoch 57/70\n",
            "17/17 [==============================] - 0s 6ms/step - loss: 0.2903 - accuracy: 0.8759 - val_loss: 0.6951 - val_accuracy: 0.7838\n",
            "Epoch 58/70\n",
            "17/17 [==============================] - 0s 6ms/step - loss: 0.2902 - accuracy: 0.8759 - val_loss: 0.7064 - val_accuracy: 0.7703\n",
            "Epoch 59/70\n",
            "17/17 [==============================] - 0s 6ms/step - loss: 0.2888 - accuracy: 0.8833 - val_loss: 0.6958 - val_accuracy: 0.7703\n",
            "Epoch 60/70\n",
            "17/17 [==============================] - 0s 7ms/step - loss: 0.2876 - accuracy: 0.8833 - val_loss: 0.7021 - val_accuracy: 0.7703\n",
            "Epoch 61/70\n",
            "17/17 [==============================] - 0s 7ms/step - loss: 0.2863 - accuracy: 0.8889 - val_loss: 0.7103 - val_accuracy: 0.7703\n",
            "Epoch 62/70\n",
            "17/17 [==============================] - 0s 6ms/step - loss: 0.2861 - accuracy: 0.8833 - val_loss: 0.7009 - val_accuracy: 0.7703\n",
            "Epoch 63/70\n",
            "17/17 [==============================] - 0s 6ms/step - loss: 0.2834 - accuracy: 0.8870 - val_loss: 0.7096 - val_accuracy: 0.7568\n",
            "Epoch 64/70\n",
            "17/17 [==============================] - 0s 6ms/step - loss: 0.2850 - accuracy: 0.8852 - val_loss: 0.7119 - val_accuracy: 0.7838\n",
            "Epoch 65/70\n",
            "17/17 [==============================] - 0s 6ms/step - loss: 0.2840 - accuracy: 0.8870 - val_loss: 0.7097 - val_accuracy: 0.7703\n",
            "Epoch 66/70\n",
            "17/17 [==============================] - 0s 6ms/step - loss: 0.2823 - accuracy: 0.8926 - val_loss: 0.7087 - val_accuracy: 0.7432\n",
            "Epoch 67/70\n",
            "17/17 [==============================] - 0s 7ms/step - loss: 0.2831 - accuracy: 0.8852 - val_loss: 0.7118 - val_accuracy: 0.7568\n",
            "Epoch 68/70\n",
            "17/17 [==============================] - 0s 7ms/step - loss: 0.2816 - accuracy: 0.8870 - val_loss: 0.7168 - val_accuracy: 0.7703\n",
            "Epoch 69/70\n",
            "17/17 [==============================] - 0s 8ms/step - loss: 0.2795 - accuracy: 0.8907 - val_loss: 0.7314 - val_accuracy: 0.7568\n",
            "Epoch 70/70\n",
            "17/17 [==============================] - 0s 6ms/step - loss: 0.2789 - accuracy: 0.8907 - val_loss: 0.7285 - val_accuracy: 0.7568\n"
          ]
        }
      ]
    },
    {
      "cell_type": "markdown",
      "source": [
        "**Plotting the loss and accuracy of training and validation( rmsprop optimizer)**"
      ],
      "metadata": {
        "id": "YdSS1GQ7GJr0"
      }
    },
    {
      "cell_type": "code",
      "source": [
        "history2_df = pd.DataFrame(history2.history)\n",
        "plt.plot(history2_df['loss'], label='loss')\n",
        "plt.plot(history2_df['val_loss'], label='val_loss')\n",
        "plt.legend()\n",
        "plt.plot(history2_df['accuracy'], label='acc')\n",
        "plt.plot(history2_df['val_accuracy'], label='val_acc')\n",
        "plt.legend()"
      ],
      "metadata": {
        "colab": {
          "base_uri": "https://localhost:8080/",
          "height": 282
        },
        "id": "MqT_WzAmAxtn",
        "outputId": "6302f4bc-46ab-4f72-b878-9ccce8648152"
      },
      "execution_count": null,
      "outputs": [
        {
          "output_type": "execute_result",
          "data": {
            "text/plain": [
              "<matplotlib.legend.Legend at 0x7fbf2be3d2d0>"
            ]
          },
          "metadata": {},
          "execution_count": 36
        },
        {
          "output_type": "display_data",
          "data": {
            "image/png": "[encoded data removed]",
            "text/plain": [
              "<Figure size 432x288 with 1 Axes>"
            ]
          },
          "metadata": {
            "needs_background": "light"
          }
        }
      ]
    },
    {
      "cell_type": "markdown",
      "source": [
        "**Prediction on the test dataset using the developed NN model (rmsprop)**"
      ],
      "metadata": {
        "id": "DSJF-NWQGPGN"
      }
    },
    {
      "cell_type": "code",
      "source": [
        "from sklearn.metrics import accuracy_score\n",
        "y_pred2 = model.predict(X_test)\n",
        "y_pred2 = y_pred2 > 0.5\n",
        "print(classification_report(y_test,y_pred2))"
      ],
      "metadata": {
        "colab": {
          "base_uri": "https://localhost:8080/"
        },
        "id": "64i2ZqjJA2hW",
        "outputId": "7a2a0f22-1dfb-4605-9418-d45b8f6ba822"
      },
      "execution_count": null,
      "outputs": [
        {
          "output_type": "stream",
          "name": "stdout",
          "text": [
            "              precision    recall  f1-score   support\n",
            "\n",
            "           0       0.83      0.86      0.84       107\n",
            "           1       0.65      0.60      0.62        47\n",
            "\n",
            "    accuracy                           0.78       154\n",
            "   macro avg       0.74      0.73      0.73       154\n",
            "weighted avg       0.77      0.78      0.78       154\n",
            "\n"
          ]
        }
      ]
    },
    {
      "cell_type": "markdown",
      "source": [
        "**Accuracy and loss curve with classifiaction report altogether of all NN models**"
      ],
      "metadata": {
        "id": "agHJbtz0GVHl"
      }
    },
    {
      "cell_type": "code",
      "source": [
        "plt.figure()\n",
        "plt.figure(figsize=(24, 24))\n",
        "plt.subplot(3, 3, 1)\n",
        "plt.plot(history_df['loss'], label='loss')\n",
        "plt.plot(history_df['val_loss'], label='val_loss')\n",
        "plt.legend()\n",
        "plt.plot(history_df['accuracy'], label='acc')\n",
        "plt.plot(history_df['val_accuracy'], label='val_acc')\n",
        "plt.legend()\n",
        "plt.title('Adam optimizer')\n",
        "plt.subplot(3, 3, 2)\n",
        "plt.plot(history1_df['loss'], label='loss')\n",
        "plt.plot(history1_df['val_loss'], label='val_loss')\n",
        "plt.legend()\n",
        "plt.plot(history1_df['accuracy'], label='acc')\n",
        "plt.plot(history1_df['val_accuracy'], label='val_acc')\n",
        "plt.legend()\n",
        "plt.title('Adadelta optimizer')\n",
        "plt.subplot(3, 3, 3)\n",
        "plt.plot(history2_df['loss'], label='loss')\n",
        "plt.plot(history2_df['val_loss'], label='val_loss')\n",
        "plt.legend()\n",
        "plt.plot(history2_df['accuracy'], label='acc')\n",
        "plt.plot(history2_df['val_accuracy'], label='val_acc')\n",
        "plt.legend()\n",
        "plt.title('Rmsprop optimizer')\n",
        "print(\"The performance measure of NN model with 'adam' optimizer\\n\",classification_report(y_test,y_pred))\n",
        "print(\"The performance measure of NN model with 'adadelta' optimizer\\n\",classification_report(y_test,y_pred1))\n",
        "print(\"The performance measure of NN model with 'rmsprop' optimizer\\n\",classification_report(y_test,y_pred2))"
      ],
      "metadata": {
        "colab": {
          "base_uri": "https://localhost:8080/",
          "height": 986
        },
        "id": "15eg23XpCik2",
        "outputId": "087a8184-9d88-4c51-9d17-a15bf5fa5396"
      },
      "execution_count": null,
      "outputs": [
        {
          "output_type": "stream",
          "name": "stdout",
          "text": [
            "The performance measure of NN model with 'adam' optimizer\n",
            "               precision    recall  f1-score   support\n",
            "\n",
            "           0       0.83      0.80      0.82       107\n",
            "           1       0.58      0.62      0.60        47\n",
            "\n",
            "    accuracy                           0.75       154\n",
            "   macro avg       0.70      0.71      0.71       154\n",
            "weighted avg       0.75      0.75      0.75       154\n",
            "\n",
            "The performance measure of NN model with 'adadelta' optimizer\n",
            "               precision    recall  f1-score   support\n",
            "\n",
            "           0       0.84      0.86      0.85       107\n",
            "           1       0.66      0.62      0.64        47\n",
            "\n",
            "    accuracy                           0.79       154\n",
            "   macro avg       0.75      0.74      0.74       154\n",
            "weighted avg       0.78      0.79      0.78       154\n",
            "\n",
            "The performance measure of NN model with 'rmsprop' optimizer\n",
            "               precision    recall  f1-score   support\n",
            "\n",
            "           0       0.83      0.86      0.84       107\n",
            "           1       0.65      0.60      0.62        47\n",
            "\n",
            "    accuracy                           0.78       154\n",
            "   macro avg       0.74      0.73      0.73       154\n",
            "weighted avg       0.77      0.78      0.78       154\n",
            "\n"
          ]
        },
        {
          "output_type": "display_data",
          "data": {
            "text/plain": [
              "<Figure size 432x288 with 0 Axes>"
            ]
          },
          "metadata": {}
        },
        {
          "output_type": "display_data",
          "data": {
            "image/png": "[encoded data removed]",
            "text/plain": [
              "<Figure size 1728x1728 with 3 Axes>"
            ]
          },
          "metadata": {
            "needs_background": "light"
          }
        }
      ]
    },
    {
      "cell_type": "markdown",
      "source": [
        "**2nd NN model with less model parameters**"
      ],
      "metadata": {
        "id": "-gNvwRUvGg7k"
      }
    },
    {
      "cell_type": "code",
      "source": [
        "model = Sequential()\n",
        "model.add(Dense(20, input_dim=8, activation='relu'))\n",
        "model.add(Dense(18, activation='relu'))\n",
        "model.add(Dense(8, activation='relu'))\n",
        "model.add(Dense(1, activation='sigmoid'))\n",
        "model.summary()\n",
        "X_train,X_test,y_train,y_test=train_test_split(features,target,test_size = 0.21,random_state = 2)\n",
        "model.compile(loss='binary_crossentropy', optimizer='adam', metrics=['accuracy'])\n",
        "#Training the neural network on the train dataset\n",
        "history = model.fit(X_train, y_train, epochs=80, validation_split=0.2)\n",
        "plt.figure()\n",
        "plt.figure(figsize=(10, 10))\n",
        "plt.subplot(2, 2, 1)\n",
        "history_df = pd.DataFrame(history.history)\n",
        "plt.plot(history_df['loss'], label='loss')\n",
        "plt.plot(history_df['val_loss'], label='val_loss')\n",
        "plt.legend()\n",
        "plt.title('Training and Validation Loss')\n",
        "plt.subplot(2, 2, 2)\n",
        "plt.plot(history_df['accuracy'], label='acc')\n",
        "plt.plot(history_df['val_accuracy'], label='val_acc')\n",
        "plt.legend()\n",
        "plt.title('Training and Validation Accuracy')\n",
        "from sklearn.metrics import accuracy_score\n",
        "y_pred = model.predict(X_test)\n",
        "y_pred = y_pred > 0.5\n",
        "print(classification_report(y_test,y_pred))"
      ],
      "metadata": {
        "colab": {
          "base_uri": "https://localhost:8080/",
          "height": 3557
        },
        "id": "Yt3Ie9ngBPV1",
        "outputId": "45c86de1-7900-4fcb-ef71-2474398aab3d"
      },
      "execution_count": null,
      "outputs": [
        {
          "output_type": "stream",
          "name": "stdout",
          "text": [
            "Model: \"sequential_12\"\n",
            "_________________________________________________________________\n",
            " Layer (type)                Output Shape              Param #   \n",
            "=================================================================\n",
            " dense_50 (Dense)            (None, 20)                180       \n",
            "                                                                 \n",
            " dense_51 (Dense)            (None, 18)                378       \n",
            "                                                                 \n",
            " dense_52 (Dense)            (None, 8)                 152       \n",
            "                                                                 \n",
            " dense_53 (Dense)            (None, 1)                 9         \n",
            "                                                                 \n",
            "=================================================================\n",
            "Total params: 719\n",
            "Trainable params: 719\n",
            "Non-trainable params: 0\n",
            "_________________________________________________________________\n",
            "Epoch 1/80\n",
            "16/16 [==============================] - 1s 18ms/step - loss: 1.6906 - accuracy: 0.5971 - val_loss: 1.1272 - val_accuracy: 0.4508\n",
            "Epoch 2/80\n",
            "16/16 [==============================] - 0s 6ms/step - loss: 0.8858 - accuracy: 0.6219 - val_loss: 0.9450 - val_accuracy: 0.5984\n",
            "Epoch 3/80\n",
            "16/16 [==============================] - 0s 8ms/step - loss: 0.7826 - accuracy: 0.6364 - val_loss: 0.7385 - val_accuracy: 0.5984\n",
            "Epoch 4/80\n",
            "16/16 [==============================] - 0s 7ms/step - loss: 0.7234 - accuracy: 0.6343 - val_loss: 0.8140 - val_accuracy: 0.5902\n",
            "Epoch 5/80\n",
            "16/16 [==============================] - 0s 7ms/step - loss: 0.7154 - accuracy: 0.6612 - val_loss: 0.7365 - val_accuracy: 0.6311\n",
            "Epoch 6/80\n",
            "16/16 [==============================] - 0s 6ms/step - loss: 0.6870 - accuracy: 0.6467 - val_loss: 0.6950 - val_accuracy: 0.6230\n",
            "Epoch 7/80\n",
            "16/16 [==============================] - 0s 6ms/step - loss: 0.6798 - accuracy: 0.6508 - val_loss: 0.7313 - val_accuracy: 0.6148\n",
            "Epoch 8/80\n",
            "16/16 [==============================] - 0s 7ms/step - loss: 0.6538 - accuracy: 0.6674 - val_loss: 0.6878 - val_accuracy: 0.6475\n",
            "Epoch 9/80\n",
            "16/16 [==============================] - 0s 6ms/step - loss: 0.6515 - accuracy: 0.6612 - val_loss: 0.6815 - val_accuracy: 0.6639\n",
            "Epoch 10/80\n",
            "16/16 [==============================] - 0s 6ms/step - loss: 0.6474 - accuracy: 0.6612 - val_loss: 0.6937 - val_accuracy: 0.6311\n",
            "Epoch 11/80\n",
            "16/16 [==============================] - 0s 7ms/step - loss: 0.6335 - accuracy: 0.6839 - val_loss: 0.6226 - val_accuracy: 0.6885\n",
            "Epoch 12/80\n",
            "16/16 [==============================] - 0s 7ms/step - loss: 0.6419 - accuracy: 0.6612 - val_loss: 0.7085 - val_accuracy: 0.6475\n",
            "Epoch 13/80\n",
            "16/16 [==============================] - 0s 6ms/step - loss: 0.6358 - accuracy: 0.6591 - val_loss: 0.6825 - val_accuracy: 0.6311\n",
            "Epoch 14/80\n",
            "16/16 [==============================] - 0s 7ms/step - loss: 0.6099 - accuracy: 0.6777 - val_loss: 0.6212 - val_accuracy: 0.6803\n",
            "Epoch 15/80\n",
            "16/16 [==============================] - 0s 6ms/step - loss: 0.6057 - accuracy: 0.6694 - val_loss: 0.6297 - val_accuracy: 0.6803\n",
            "Epoch 16/80\n",
            "16/16 [==============================] - 0s 7ms/step - loss: 0.6066 - accuracy: 0.6715 - val_loss: 0.6364 - val_accuracy: 0.6967\n",
            "Epoch 17/80\n",
            "16/16 [==============================] - 0s 6ms/step - loss: 0.5931 - accuracy: 0.6901 - val_loss: 0.6295 - val_accuracy: 0.6639\n",
            "Epoch 18/80\n",
            "16/16 [==============================] - 0s 7ms/step - loss: 0.5972 - accuracy: 0.6880 - val_loss: 0.6703 - val_accuracy: 0.6393\n",
            "Epoch 19/80\n",
            "16/16 [==============================] - 0s 6ms/step - loss: 0.5922 - accuracy: 0.6921 - val_loss: 0.6166 - val_accuracy: 0.6885\n",
            "Epoch 20/80\n",
            "16/16 [==============================] - 0s 6ms/step - loss: 0.5802 - accuracy: 0.6963 - val_loss: 0.6625 - val_accuracy: 0.6721\n",
            "Epoch 21/80\n",
            "16/16 [==============================] - 0s 6ms/step - loss: 0.5934 - accuracy: 0.6798 - val_loss: 0.6050 - val_accuracy: 0.6967\n",
            "Epoch 22/80\n",
            "16/16 [==============================] - 0s 7ms/step - loss: 0.6015 - accuracy: 0.6777 - val_loss: 0.6854 - val_accuracy: 0.6475\n",
            "Epoch 23/80\n",
            "16/16 [==============================] - 0s 7ms/step - loss: 0.5843 - accuracy: 0.7004 - val_loss: 0.6297 - val_accuracy: 0.6967\n",
            "Epoch 24/80\n",
            "16/16 [==============================] - 0s 7ms/step - loss: 0.5728 - accuracy: 0.6963 - val_loss: 0.6200 - val_accuracy: 0.6885\n",
            "Epoch 25/80\n",
            "16/16 [==============================] - 0s 6ms/step - loss: 0.5782 - accuracy: 0.6880 - val_loss: 0.6532 - val_accuracy: 0.6721\n",
            "Epoch 26/80\n",
            "16/16 [==============================] - 0s 6ms/step - loss: 0.5748 - accuracy: 0.6942 - val_loss: 0.6265 - val_accuracy: 0.7049\n",
            "Epoch 27/80\n",
            "16/16 [==============================] - 0s 7ms/step - loss: 0.5791 - accuracy: 0.6901 - val_loss: 0.6224 - val_accuracy: 0.7049\n",
            "Epoch 28/80\n",
            "16/16 [==============================] - 0s 6ms/step - loss: 0.5658 - accuracy: 0.6942 - val_loss: 0.6332 - val_accuracy: 0.6967\n",
            "Epoch 29/80\n",
            "16/16 [==============================] - 0s 6ms/step - loss: 0.5642 - accuracy: 0.7107 - val_loss: 0.6245 - val_accuracy: 0.6803\n",
            "Epoch 30/80\n",
            "16/16 [==============================] - 0s 6ms/step - loss: 0.5658 - accuracy: 0.7087 - val_loss: 0.6103 - val_accuracy: 0.7213\n",
            "Epoch 31/80\n",
            "16/16 [==============================] - 0s 7ms/step - loss: 0.5671 - accuracy: 0.6901 - val_loss: 0.6429 - val_accuracy: 0.7049\n",
            "Epoch 32/80\n",
            "16/16 [==============================] - 0s 6ms/step - loss: 0.5695 - accuracy: 0.6963 - val_loss: 0.6891 - val_accuracy: 0.6639\n",
            "Epoch 33/80\n",
            "16/16 [==============================] - 0s 6ms/step - loss: 0.5947 - accuracy: 0.6818 - val_loss: 0.6185 - val_accuracy: 0.7131\n",
            "Epoch 34/80\n",
            "16/16 [==============================] - 0s 7ms/step - loss: 0.5652 - accuracy: 0.7045 - val_loss: 0.6253 - val_accuracy: 0.7131\n",
            "Epoch 35/80\n",
            "16/16 [==============================] - 0s 6ms/step - loss: 0.5586 - accuracy: 0.7087 - val_loss: 0.6337 - val_accuracy: 0.7049\n",
            "Epoch 36/80\n",
            "16/16 [==============================] - 0s 6ms/step - loss: 0.5660 - accuracy: 0.6983 - val_loss: 0.6481 - val_accuracy: 0.6885\n",
            "Epoch 37/80\n",
            "16/16 [==============================] - 0s 6ms/step - loss: 0.5575 - accuracy: 0.7004 - val_loss: 0.6283 - val_accuracy: 0.7049\n",
            "Epoch 38/80\n",
            "16/16 [==============================] - 0s 7ms/step - loss: 0.5562 - accuracy: 0.7149 - val_loss: 0.6348 - val_accuracy: 0.6803\n",
            "Epoch 39/80\n",
            "16/16 [==============================] - 0s 6ms/step - loss: 0.5562 - accuracy: 0.7045 - val_loss: 0.6476 - val_accuracy: 0.6967\n",
            "Epoch 40/80\n",
            "16/16 [==============================] - 0s 7ms/step - loss: 0.5566 - accuracy: 0.7169 - val_loss: 0.6180 - val_accuracy: 0.7213\n",
            "Epoch 41/80\n",
            "16/16 [==============================] - 0s 6ms/step - loss: 0.5523 - accuracy: 0.7231 - val_loss: 0.7039 - val_accuracy: 0.6311\n",
            "Epoch 42/80\n",
            "16/16 [==============================] - 0s 6ms/step - loss: 0.5536 - accuracy: 0.7128 - val_loss: 0.6213 - val_accuracy: 0.7131\n",
            "Epoch 43/80\n",
            "16/16 [==============================] - 0s 6ms/step - loss: 0.5664 - accuracy: 0.7066 - val_loss: 0.6172 - val_accuracy: 0.7049\n",
            "Epoch 44/80\n",
            "16/16 [==============================] - 0s 6ms/step - loss: 0.5549 - accuracy: 0.7004 - val_loss: 0.6364 - val_accuracy: 0.7049\n",
            "Epoch 45/80\n",
            "16/16 [==============================] - 0s 7ms/step - loss: 0.5476 - accuracy: 0.7231 - val_loss: 0.6243 - val_accuracy: 0.7213\n",
            "Epoch 46/80\n",
            "16/16 [==============================] - 0s 6ms/step - loss: 0.5468 - accuracy: 0.7087 - val_loss: 0.6464 - val_accuracy: 0.6885\n",
            "Epoch 47/80\n",
            "16/16 [==============================] - 0s 6ms/step - loss: 0.5489 - accuracy: 0.7169 - val_loss: 0.6205 - val_accuracy: 0.6885\n",
            "Epoch 48/80\n",
            "16/16 [==============================] - 0s 6ms/step - loss: 0.5461 - accuracy: 0.7128 - val_loss: 0.6532 - val_accuracy: 0.6885\n",
            "Epoch 49/80\n",
            "16/16 [==============================] - 0s 6ms/step - loss: 0.5558 - accuracy: 0.7149 - val_loss: 0.6325 - val_accuracy: 0.6721\n",
            "Epoch 50/80\n",
            "16/16 [==============================] - 0s 6ms/step - loss: 0.5490 - accuracy: 0.7211 - val_loss: 0.6474 - val_accuracy: 0.7131\n",
            "Epoch 51/80\n",
            "16/16 [==============================] - 0s 6ms/step - loss: 0.5625 - accuracy: 0.7045 - val_loss: 0.6583 - val_accuracy: 0.6885\n",
            "Epoch 52/80\n",
            "16/16 [==============================] - 0s 6ms/step - loss: 0.5650 - accuracy: 0.7045 - val_loss: 0.6756 - val_accuracy: 0.6639\n",
            "Epoch 53/80\n",
            "16/16 [==============================] - 0s 7ms/step - loss: 0.5474 - accuracy: 0.7252 - val_loss: 0.6350 - val_accuracy: 0.7213\n",
            "Epoch 54/80\n",
            "16/16 [==============================] - 0s 6ms/step - loss: 0.5481 - accuracy: 0.7293 - val_loss: 0.7106 - val_accuracy: 0.6393\n",
            "Epoch 55/80\n",
            "16/16 [==============================] - 0s 6ms/step - loss: 0.5573 - accuracy: 0.7149 - val_loss: 0.6286 - val_accuracy: 0.7131\n",
            "Epoch 56/80\n",
            "16/16 [==============================] - 0s 7ms/step - loss: 0.5374 - accuracy: 0.7190 - val_loss: 0.6329 - val_accuracy: 0.7131\n",
            "Epoch 57/80\n",
            "16/16 [==============================] - 0s 6ms/step - loss: 0.5444 - accuracy: 0.7190 - val_loss: 0.6291 - val_accuracy: 0.7213\n",
            "Epoch 58/80\n",
            "16/16 [==============================] - 0s 6ms/step - loss: 0.5395 - accuracy: 0.7293 - val_loss: 0.6413 - val_accuracy: 0.7131\n",
            "Epoch 59/80\n",
            "16/16 [==============================] - 0s 6ms/step - loss: 0.5345 - accuracy: 0.7211 - val_loss: 0.6055 - val_accuracy: 0.7131\n",
            "Epoch 60/80\n",
            "16/16 [==============================] - 0s 7ms/step - loss: 0.5743 - accuracy: 0.6921 - val_loss: 0.7219 - val_accuracy: 0.6475\n",
            "Epoch 61/80\n",
            "16/16 [==============================] - 0s 7ms/step - loss: 0.5423 - accuracy: 0.7376 - val_loss: 0.6098 - val_accuracy: 0.7295\n",
            "Epoch 62/80\n",
            "16/16 [==============================] - 0s 7ms/step - loss: 0.5332 - accuracy: 0.7231 - val_loss: 0.6588 - val_accuracy: 0.7049\n",
            "Epoch 63/80\n",
            "16/16 [==============================] - 0s 6ms/step - loss: 0.5341 - accuracy: 0.7252 - val_loss: 0.6184 - val_accuracy: 0.7295\n",
            "Epoch 64/80\n",
            "16/16 [==============================] - 0s 6ms/step - loss: 0.5360 - accuracy: 0.7252 - val_loss: 0.6605 - val_accuracy: 0.7049\n",
            "Epoch 65/80\n",
            "16/16 [==============================] - 0s 6ms/step - loss: 0.5309 - accuracy: 0.7459 - val_loss: 0.5945 - val_accuracy: 0.7623\n",
            "Epoch 66/80\n",
            "16/16 [==============================] - 0s 6ms/step - loss: 0.5437 - accuracy: 0.7107 - val_loss: 0.6418 - val_accuracy: 0.7049\n",
            "Epoch 67/80\n",
            "16/16 [==============================] - 0s 7ms/step - loss: 0.5221 - accuracy: 0.7355 - val_loss: 0.6675 - val_accuracy: 0.6803\n",
            "Epoch 68/80\n",
            "16/16 [==============================] - 0s 6ms/step - loss: 0.5323 - accuracy: 0.7355 - val_loss: 0.6826 - val_accuracy: 0.6557\n",
            "Epoch 69/80\n",
            "16/16 [==============================] - 0s 8ms/step - loss: 0.5316 - accuracy: 0.7438 - val_loss: 0.6317 - val_accuracy: 0.7213\n",
            "Epoch 70/80\n",
            "16/16 [==============================] - 0s 6ms/step - loss: 0.5358 - accuracy: 0.7149 - val_loss: 0.6655 - val_accuracy: 0.6885\n",
            "Epoch 71/80\n",
            "16/16 [==============================] - 0s 6ms/step - loss: 0.5573 - accuracy: 0.7293 - val_loss: 0.6265 - val_accuracy: 0.7295\n",
            "Epoch 72/80\n",
            "16/16 [==============================] - 0s 6ms/step - loss: 0.5264 - accuracy: 0.7397 - val_loss: 0.6311 - val_accuracy: 0.7295\n",
            "Epoch 73/80\n",
            "16/16 [==============================] - 0s 7ms/step - loss: 0.5158 - accuracy: 0.7521 - val_loss: 0.6810 - val_accuracy: 0.6721\n",
            "Epoch 74/80\n",
            "16/16 [==============================] - 0s 7ms/step - loss: 0.5198 - accuracy: 0.7562 - val_loss: 0.6530 - val_accuracy: 0.6967\n",
            "Epoch 75/80\n",
            "16/16 [==============================] - 0s 6ms/step - loss: 0.5100 - accuracy: 0.7500 - val_loss: 0.6733 - val_accuracy: 0.6967\n",
            "Epoch 76/80\n",
            "16/16 [==============================] - 0s 6ms/step - loss: 0.5140 - accuracy: 0.7417 - val_loss: 0.6334 - val_accuracy: 0.7377\n",
            "Epoch 77/80\n",
            "16/16 [==============================] - 0s 6ms/step - loss: 0.5176 - accuracy: 0.7397 - val_loss: 0.6339 - val_accuracy: 0.7049\n",
            "Epoch 78/80\n",
            "16/16 [==============================] - 0s 7ms/step - loss: 0.5150 - accuracy: 0.7417 - val_loss: 0.6638 - val_accuracy: 0.6967\n",
            "Epoch 79/80\n",
            "16/16 [==============================] - 0s 6ms/step - loss: 0.5110 - accuracy: 0.7376 - val_loss: 0.6764 - val_accuracy: 0.6803\n",
            "Epoch 80/80\n",
            "16/16 [==============================] - 0s 6ms/step - loss: 0.5201 - accuracy: 0.7376 - val_loss: 0.6442 - val_accuracy: 0.7295\n",
            "              precision    recall  f1-score   support\n",
            "\n",
            "           0       0.77      0.88      0.82       114\n",
            "           1       0.56      0.38      0.45        48\n",
            "\n",
            "    accuracy                           0.73       162\n",
            "   macro avg       0.67      0.63      0.63       162\n",
            "weighted avg       0.71      0.73      0.71       162\n",
            "\n"
          ]
        },
        {
          "output_type": "display_data",
          "data": {
            "text/plain": [
              "<Figure size 432x288 with 0 Axes>"
            ]
          },
          "metadata": {}
        },
        {
          "output_type": "display_data",
          "data": {
            "image/png": "[encoded data removed]",
            "text/plain": [
              "<Figure size 720x720 with 2 Axes>"
            ]
          },
          "metadata": {
            "needs_background": "light"
          }
        }
      ]
    },
    {
      "cell_type": "markdown",
      "source": [
        "**Findings:**\n",
        "1. Using all the 6 machine learning algorithms(KNN, RF, DT, SVM, LR, NB), the highest accuracy and F1-score is found from the SVM classifier model (82%). This is due to the fact that the hyperplane separating the surface area in the SVM has better performance on the test data than the other classifiers.\n",
        "\n",
        "2. The 1st neural network model is bulit in which 'relu' and 'tanh' activation function is utilized in the hidden layer of the NN.\n",
        "\n",
        "3. The input dimension in the 1st layer of the NN is given as 8 as there are 8 features column and in the last classification layer 1 hidden neuron (node) is given. In the classification layer, sigmoid activation function is employed as this is a binary classification problem indicating whether have diabetes or not.\n",
        "\n",
        "4. The 1st NN model is trained with different types of parameters. They are given below:\n",
        "\n",
        "      1. Optimizer: \"Adam\", Epoch:20, validation split: 0.08 (train:80% and test:20%)\n",
        "      2. Optimizer: \"Adadelta\", Epoch:30, validation split: 0.15\n",
        "      3. Optimizer: \"Rmsprop\", Epoch:70, validation split: 0.12   \n",
        "\n",
        "5. The all 3 NN models obtained accuracy is 75%, 79% and 78%\n",
        "respectively. But, it can be observed from the accuracy curve that the difference between the training and validation accuracy is high which can lead to a overfitted model. This is due to the fact the number of layers in NN model is more considering the binary classification problem which leads to more number of trainable parameters(1100).\n",
        "\n",
        "6. In the 2nd developed NN model (test=0.21), the obtained accuracy is 73% in which 'adam' optimizer is utilized and the difference between the training and validation accuracy is not much considering the 1st NN model. This is due to that fact that in the 2nd NN model(trainable parameters=719), the number of layers is comparatively less than the 1st NN model.\n",
        "\n",
        "\n"
      ],
      "metadata": {
        "id": "V1LGfEDeIhPc"
      }
    },
    {
      "cell_type": "markdown",
      "source": [
        "**Discussion:**\n",
        "1. While training the NN model with 'adam' optimizer the default learning rate value of this optimizer is utilized which is 0.001.\n",
        "\n",
        "2. As this is a binary(0 or 1) prediction problem, binary crossentropy loss is used in the compilation of the developed NN model. This is also referred to as log loss.\n",
        "\n",
        "3. Using the threshold value of 0.5, the floating value of y pred is converted to an integer. This can also be done by converting to 'uint8', which represents an unsigned integer.\n",
        "\n",
        "4. In NN models, in addition to the training and testing sets, the validation set is used to fine-tune the model's hyper-parameters before making the final prediction on the test set. There is no validation set in ML models.\n",
        "\n"
      ],
      "metadata": {
        "id": "bKl6Nr1UTf5V"
      }
    }
  ]
}